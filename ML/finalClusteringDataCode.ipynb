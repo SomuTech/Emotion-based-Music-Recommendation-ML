{
 "cells": [
  {
   "cell_type": "code",
   "execution_count": 95,
   "metadata": {},
   "outputs": [
    {
     "data": {
      "image/png": "[encoded data removed]",
      "text/plain": [
       "<Figure size 288x72 with 1 Axes>"
      ]
     },
     "metadata": {},
     "output_type": "display_data"
    }
   ],
   "source": [
    "# To support both python 2 and python 3\n",
    "from __future__ import division, print_function, unicode_literals\n",
    "\n",
    "import numpy as np, pandas as pd\n",
    "import os\n",
    "# To make this notebook's output stable across runs\n",
    "np.random.seed(42)\n",
    "\n",
    "# To plot pretty figures\n",
    "%matplotlib inline\n",
    "import matplotlib as mpl\n",
    "import matplotlib.pyplot as plt\n",
    "mpl.rc('axes', labelsize=14)\n",
    "mpl.rc('xtick', labelsize=12)\n",
    "mpl.rc('ytick', labelsize=12)\n",
    "\n",
    "import seaborn as sns\n",
    "#set style of plots\n",
    "sns.set_style('white')\n",
    "\n",
    "#define a custom palette\n",
    "customPalette = ['#630C3A', '#39C8C6', '#D3500C', '#FFB139']\n",
    "sns.set_palette(customPalette)\n",
    "sns.palplot(customPalette)\n",
    "# Ignore useless warnings (see SciPy issue #5998)\n",
    "import warnings\n",
    "warnings.filterwarnings(action=\"ignore\", message=\"^internal gelsd\")"
   ]
  },
  {
   "cell_type": "code",
   "execution_count": 96,
   "metadata": {},
   "outputs": [
    {
     "name": "stdout",
     "output_type": "stream",
     "text": [
      "<class 'pandas.core.frame.DataFrame'>\n",
      "RangeIndex: 1914 entries, 0 to 1913\n",
      "Data columns (total 18 columns):\n",
      " #   Column            Non-Null Count  Dtype  \n",
      "---  ------            --------------  -----  \n",
      " 0   name              1910 non-null   object \n",
      " 1   album             1910 non-null   object \n",
      " 2   artist            1914 non-null   object \n",
      " 3   id                1914 non-null   object \n",
      " 4   release_date      1914 non-null   object \n",
      " 5   popularity        1914 non-null   int64  \n",
      " 6   length            1914 non-null   int64  \n",
      " 7   danceability      1914 non-null   float64\n",
      " 8   acousticness      1914 non-null   float64\n",
      " 9   energy            1914 non-null   float64\n",
      " 10  instrumentalness  1914 non-null   float64\n",
      " 11  liveness          1914 non-null   float64\n",
      " 12  valence           1914 non-null   float64\n",
      " 13  loudness          1914 non-null   float64\n",
      " 14  speechiness       1914 non-null   float64\n",
      " 15  tempo             1914 non-null   float64\n",
      " 16  key               1914 non-null   int64  \n",
      " 17  time_signature    1914 non-null   int64  \n",
      "dtypes: float64(9), int64(4), object(5)\n",
      "memory usage: 269.3+ KB\n"
     ]
    }
   ],
   "source": [
    "# Import my spotify data\n",
    "songs = pd.read_csv(\"../Spotify-Machine-Learning-master/data.csv\")\n",
    "songs.info()"
   ]
  },
  {
   "cell_type": "code",
   "execution_count": 97,
   "metadata": {},
   "outputs": [
    {
     "data": {
      "text/html": [
       "<div>\n",
       "<style scoped>\n",
       "    .dataframe tbody tr th:only-of-type {\n",
       "        vertical-align: middle;\n",
       "    }\n",
       "\n",
       "    .dataframe tbody tr th {\n",
       "        vertical-align: top;\n",
       "    }\n",
       "\n",
       "    .dataframe thead th {\n",
       "        text-align: right;\n",
       "    }\n",
       "</style>\n",
       "<table border=\"1\" class=\"dataframe\">\n",
       "  <thead>\n",
       "    <tr style=\"text-align: right;\">\n",
       "      <th></th>\n",
       "      <th>name</th>\n",
       "      <th>artist</th>\n",
       "      <th>id</th>\n",
       "      <th>danceability</th>\n",
       "      <th>acousticness</th>\n",
       "      <th>liveness</th>\n",
       "      <th>loudness</th>\n",
       "      <th>speechiness</th>\n",
       "    </tr>\n",
       "  </thead>\n",
       "  <tbody>\n",
       "    <tr>\n",
       "      <th>0</th>\n",
       "      <td>Karma Bhoomilo</td>\n",
       "      <td>Vandemataram Srinivas</td>\n",
       "      <td>4qDpSMOjTkgaTAZGYvf8oc</td>\n",
       "      <td>0.588</td>\n",
       "      <td>0.340</td>\n",
       "      <td>0.3010</td>\n",
       "      <td>-12.968</td>\n",
       "      <td>0.1010</td>\n",
       "    </tr>\n",
       "    <tr>\n",
       "      <th>1</th>\n",
       "      <td>Gaali Tarangalu</td>\n",
       "      <td>A.R. Rahman</td>\n",
       "      <td>4gRrH0uIwmblEtDHuSlYSC</td>\n",
       "      <td>0.315</td>\n",
       "      <td>0.839</td>\n",
       "      <td>0.1400</td>\n",
       "      <td>-12.433</td>\n",
       "      <td>0.0283</td>\n",
       "    </tr>\n",
       "    <tr>\n",
       "      <th>2</th>\n",
       "      <td>Vendimabhu Therumeeda</td>\n",
       "      <td>A.R. Rahman</td>\n",
       "      <td>1nnZR6t2IS2kyIhFmLy1hV</td>\n",
       "      <td>0.627</td>\n",
       "      <td>0.798</td>\n",
       "      <td>0.1380</td>\n",
       "      <td>-13.871</td>\n",
       "      <td>0.0767</td>\n",
       "    </tr>\n",
       "    <tr>\n",
       "      <th>3</th>\n",
       "      <td>Eeru Vaka</td>\n",
       "      <td>A.R. Rahman</td>\n",
       "      <td>52LWagfL78GKiXuX5J887c</td>\n",
       "      <td>0.686</td>\n",
       "      <td>0.136</td>\n",
       "      <td>0.0973</td>\n",
       "      <td>-7.182</td>\n",
       "      <td>0.1010</td>\n",
       "    </tr>\n",
       "    <tr>\n",
       "      <th>4</th>\n",
       "      <td>Konda Kona</td>\n",
       "      <td>Koti</td>\n",
       "      <td>15yY8d7b7aRUkypZM0gGbO</td>\n",
       "      <td>0.559</td>\n",
       "      <td>0.776</td>\n",
       "      <td>0.6550</td>\n",
       "      <td>-6.475</td>\n",
       "      <td>0.0374</td>\n",
       "    </tr>\n",
       "  </tbody>\n",
       "</table>\n",
       "</div>"
      ],
      "text/plain": [
       "                    name                 artist                      id  \\\n",
       "0         Karma Bhoomilo  Vandemataram Srinivas  4qDpSMOjTkgaTAZGYvf8oc   \n",
       "1        Gaali Tarangalu            A.R. Rahman  4gRrH0uIwmblEtDHuSlYSC   \n",
       "2  Vendimabhu Therumeeda            A.R. Rahman  1nnZR6t2IS2kyIhFmLy1hV   \n",
       "3              Eeru Vaka            A.R. Rahman  52LWagfL78GKiXuX5J887c   \n",
       "4             Konda Kona                   Koti  15yY8d7b7aRUkypZM0gGbO   \n",
       "\n",
       "   danceability  acousticness  liveness  loudness  speechiness  \n",
       "0         0.588         0.340    0.3010   -12.968       0.1010  \n",
       "1         0.315         0.839    0.1400   -12.433       0.0283  \n",
       "2         0.627         0.798    0.1380   -13.871       0.0767  \n",
       "3         0.686         0.136    0.0973    -7.182       0.1010  \n",
       "4         0.559         0.776    0.6550    -6.475       0.0374  "
      ]
     },
     "execution_count": 97,
     "metadata": {},
     "output_type": "execute_result"
    }
   ],
   "source": [
    "\n",
    "songs = songs.drop(['energy','valence','tempo','time_signature','key','album','release_date','popularity','length','instrumentalness'],axis=1)\n",
    "songs.head()"
   ]
  },
  {
   "cell_type": "code",
   "execution_count": 98,
   "metadata": {},
   "outputs": [
    {
     "data": {
      "text/html": [
       "<div>\n",
       "<style scoped>\n",
       "    .dataframe tbody tr th:only-of-type {\n",
       "        vertical-align: middle;\n",
       "    }\n",
       "\n",
       "    .dataframe tbody tr th {\n",
       "        vertical-align: top;\n",
       "    }\n",
       "\n",
       "    .dataframe thead th {\n",
       "        text-align: right;\n",
       "    }\n",
       "</style>\n",
       "<table border=\"1\" class=\"dataframe\">\n",
       "  <thead>\n",
       "    <tr style=\"text-align: right;\">\n",
       "      <th></th>\n",
       "      <th>danceability</th>\n",
       "      <th>acousticness</th>\n",
       "      <th>liveness</th>\n",
       "      <th>loudness</th>\n",
       "      <th>speechiness</th>\n",
       "    </tr>\n",
       "  </thead>\n",
       "  <tbody>\n",
       "    <tr>\n",
       "      <th>count</th>\n",
       "      <td>1914.000000</td>\n",
       "      <td>1914.000000</td>\n",
       "      <td>1914.000000</td>\n",
       "      <td>1914.000000</td>\n",
       "      <td>1914.000000</td>\n",
       "    </tr>\n",
       "    <tr>\n",
       "      <th>mean</th>\n",
       "      <td>0.668445</td>\n",
       "      <td>0.454711</td>\n",
       "      <td>0.196119</td>\n",
       "      <td>-7.521953</td>\n",
       "      <td>0.109503</td>\n",
       "    </tr>\n",
       "    <tr>\n",
       "      <th>std</th>\n",
       "      <td>0.155941</td>\n",
       "      <td>0.307111</td>\n",
       "      <td>0.159854</td>\n",
       "      <td>3.225026</td>\n",
       "      <td>0.090646</td>\n",
       "    </tr>\n",
       "    <tr>\n",
       "      <th>min</th>\n",
       "      <td>0.147000</td>\n",
       "      <td>0.001600</td>\n",
       "      <td>0.013300</td>\n",
       "      <td>-32.465000</td>\n",
       "      <td>0.023900</td>\n",
       "    </tr>\n",
       "    <tr>\n",
       "      <th>25%</th>\n",
       "      <td>0.555250</td>\n",
       "      <td>0.169250</td>\n",
       "      <td>0.090800</td>\n",
       "      <td>-9.173500</td>\n",
       "      <td>0.046000</td>\n",
       "    </tr>\n",
       "    <tr>\n",
       "      <th>50%</th>\n",
       "      <td>0.689000</td>\n",
       "      <td>0.416500</td>\n",
       "      <td>0.131000</td>\n",
       "      <td>-7.050000</td>\n",
       "      <td>0.074500</td>\n",
       "    </tr>\n",
       "    <tr>\n",
       "      <th>75%</th>\n",
       "      <td>0.792000</td>\n",
       "      <td>0.735750</td>\n",
       "      <td>0.264000</td>\n",
       "      <td>-5.335750</td>\n",
       "      <td>0.143750</td>\n",
       "    </tr>\n",
       "    <tr>\n",
       "      <th>max</th>\n",
       "      <td>0.969000</td>\n",
       "      <td>0.996000</td>\n",
       "      <td>0.942000</td>\n",
       "      <td>1.094000</td>\n",
       "      <td>0.653000</td>\n",
       "    </tr>\n",
       "  </tbody>\n",
       "</table>\n",
       "</div>"
      ],
      "text/plain": [
       "       danceability  acousticness     liveness     loudness  speechiness\n",
       "count   1914.000000   1914.000000  1914.000000  1914.000000  1914.000000\n",
       "mean       0.668445      0.454711     0.196119    -7.521953     0.109503\n",
       "std        0.155941      0.307111     0.159854     3.225026     0.090646\n",
       "min        0.147000      0.001600     0.013300   -32.465000     0.023900\n",
       "25%        0.555250      0.169250     0.090800    -9.173500     0.046000\n",
       "50%        0.689000      0.416500     0.131000    -7.050000     0.074500\n",
       "75%        0.792000      0.735750     0.264000    -5.335750     0.143750\n",
       "max        0.969000      0.996000     0.942000     1.094000     0.653000"
      ]
     },
     "execution_count": 98,
     "metadata": {},
     "output_type": "execute_result"
    }
   ],
   "source": [
    "# to describe numerical features we can use describe()\n",
    "songs.describe()"
   ]
  },
  {
   "cell_type": "code",
   "execution_count": 99,
   "metadata": {},
   "outputs": [
    {
     "data": {
      "text/plain": [
       "array([[<AxesSubplot:title={'center':'danceability'}>,\n",
       "        <AxesSubplot:title={'center':'acousticness'}>],\n",
       "       [<AxesSubplot:title={'center':'liveness'}>,\n",
       "        <AxesSubplot:title={'center':'loudness'}>],\n",
       "       [<AxesSubplot:title={'center':'speechiness'}>, <AxesSubplot:>]],\n",
       "      dtype=object)"
      ]
     },
     "execution_count": 99,
     "metadata": {},
     "output_type": "execute_result"
    },
    {
     "data": {
      "image/png": "[encoded data removed]",
      "text/plain": [
       "<Figure size 1440x1080 with 6 Axes>"
      ]
     },
     "metadata": {},
     "output_type": "display_data"
    }
   ],
   "source": [
    "# Loudness feature is from -60db to 0 so we will normalise this column between 0 and 1\n",
    "# Tempo feature is in BPM so we will scale between 0 and 1 too\n",
    "from sklearn import preprocessing\n",
    "\n",
    "loudness = songs[['loudness']].values\n",
    "min_max_scaler = preprocessing.MinMaxScaler()\n",
    "loudness_scaled = min_max_scaler.fit_transform(loudness)\n",
    "songs['loudness'] = pd.DataFrame(loudness_scaled)\n",
    "\n",
    "songs.hist(bins=50,figsize=(20,15))"
   ]
  },
  {
   "cell_type": "markdown",
   "metadata": {},
   "source": [
    "Most features are skewed to the left or the right\n"
   ]
  },
  {
   "cell_type": "code",
   "execution_count": 100,
   "metadata": {},
   "outputs": [],
   "source": [
    "# from pandas.plotting import scatter_matrix\n",
    "# # attributes should contain the features we want to compare\n",
    "# attr = ['danceability','energy','loudness','speechiness','acousticness','tempo','liveness','valence']\n",
    "\n",
    "# scatter_matrix(songs[attr],figsize=(12,8))"
   ]
  },
  {
   "cell_type": "code",
   "execution_count": 101,
   "metadata": {},
   "outputs": [
    {
     "data": {
      "text/html": [
       "<div>\n",
       "<style scoped>\n",
       "    .dataframe tbody tr th:only-of-type {\n",
       "        vertical-align: middle;\n",
       "    }\n",
       "\n",
       "    .dataframe tbody tr th {\n",
       "        vertical-align: top;\n",
       "    }\n",
       "\n",
       "    .dataframe thead th {\n",
       "        text-align: right;\n",
       "    }\n",
       "</style>\n",
       "<table border=\"1\" class=\"dataframe\">\n",
       "  <thead>\n",
       "    <tr style=\"text-align: right;\">\n",
       "      <th></th>\n",
       "      <th>danceability</th>\n",
       "      <th>acousticness</th>\n",
       "      <th>liveness</th>\n",
       "      <th>loudness</th>\n",
       "      <th>speechiness</th>\n",
       "    </tr>\n",
       "  </thead>\n",
       "  <tbody>\n",
       "    <tr>\n",
       "      <th>0</th>\n",
       "      <td>0.588</td>\n",
       "      <td>0.340</td>\n",
       "      <td>0.3010</td>\n",
       "      <td>0.580977</td>\n",
       "      <td>0.1010</td>\n",
       "    </tr>\n",
       "    <tr>\n",
       "      <th>1</th>\n",
       "      <td>0.315</td>\n",
       "      <td>0.839</td>\n",
       "      <td>0.1400</td>\n",
       "      <td>0.596919</td>\n",
       "      <td>0.0283</td>\n",
       "    </tr>\n",
       "    <tr>\n",
       "      <th>2</th>\n",
       "      <td>0.627</td>\n",
       "      <td>0.798</td>\n",
       "      <td>0.1380</td>\n",
       "      <td>0.554069</td>\n",
       "      <td>0.0767</td>\n",
       "    </tr>\n",
       "    <tr>\n",
       "      <th>3</th>\n",
       "      <td>0.686</td>\n",
       "      <td>0.136</td>\n",
       "      <td>0.0973</td>\n",
       "      <td>0.753390</td>\n",
       "      <td>0.1010</td>\n",
       "    </tr>\n",
       "    <tr>\n",
       "      <th>4</th>\n",
       "      <td>0.559</td>\n",
       "      <td>0.776</td>\n",
       "      <td>0.6550</td>\n",
       "      <td>0.774457</td>\n",
       "      <td>0.0374</td>\n",
       "    </tr>\n",
       "  </tbody>\n",
       "</table>\n",
       "</div>"
      ],
      "text/plain": [
       "   danceability  acousticness  liveness  loudness  speechiness\n",
       "0         0.588         0.340    0.3010  0.580977       0.1010\n",
       "1         0.315         0.839    0.1400  0.596919       0.0283\n",
       "2         0.627         0.798    0.1380  0.554069       0.0767\n",
       "3         0.686         0.136    0.0973  0.753390       0.1010\n",
       "4         0.559         0.776    0.6550  0.774457       0.0374"
      ]
     },
     "execution_count": 101,
     "metadata": {},
     "output_type": "execute_result"
    }
   ],
   "source": [
    "# remove song names, artist and id before clustering\n",
    "songs_features = songs.copy()\n",
    "songs_features = songs_features.drop(['name','artist','id'],axis=1)\n",
    "songs_features.head()\n"
   ]
  },
  {
   "cell_type": "code",
   "execution_count": 102,
   "metadata": {},
   "outputs": [
    {
     "name": "stderr",
     "output_type": "stream",
     "text": [
      "c:\\Users\\somas\\AppData\\Local\\Programs\\Python\\Python310\\lib\\site-packages\\sklearn\\cluster\\_kmeans.py:870: FutureWarning: The default value of `n_init` will change from 10 to 'auto' in 1.4. Set the value of `n_init` explicitly to suppress the warning\n",
      "  warnings.warn(\n",
      "c:\\Users\\somas\\AppData\\Local\\Programs\\Python\\Python310\\lib\\site-packages\\sklearn\\cluster\\_kmeans.py:870: FutureWarning: The default value of `n_init` will change from 10 to 'auto' in 1.4. Set the value of `n_init` explicitly to suppress the warning\n",
      "  warnings.warn(\n",
      "c:\\Users\\somas\\AppData\\Local\\Programs\\Python\\Python310\\lib\\site-packages\\sklearn\\cluster\\_kmeans.py:870: FutureWarning: The default value of `n_init` will change from 10 to 'auto' in 1.4. Set the value of `n_init` explicitly to suppress the warning\n",
      "  warnings.warn(\n",
      "c:\\Users\\somas\\AppData\\Local\\Programs\\Python\\Python310\\lib\\site-packages\\sklearn\\cluster\\_kmeans.py:870: FutureWarning: The default value of `n_init` will change from 10 to 'auto' in 1.4. Set the value of `n_init` explicitly to suppress the warning\n",
      "  warnings.warn(\n",
      "c:\\Users\\somas\\AppData\\Local\\Programs\\Python\\Python310\\lib\\site-packages\\sklearn\\cluster\\_kmeans.py:870: FutureWarning: The default value of `n_init` will change from 10 to 'auto' in 1.4. Set the value of `n_init` explicitly to suppress the warning\n",
      "  warnings.warn(\n",
      "c:\\Users\\somas\\AppData\\Local\\Programs\\Python\\Python310\\lib\\site-packages\\sklearn\\cluster\\_kmeans.py:870: FutureWarning: The default value of `n_init` will change from 10 to 'auto' in 1.4. Set the value of `n_init` explicitly to suppress the warning\n",
      "  warnings.warn(\n",
      "c:\\Users\\somas\\AppData\\Local\\Programs\\Python\\Python310\\lib\\site-packages\\sklearn\\cluster\\_kmeans.py:870: FutureWarning: The default value of `n_init` will change from 10 to 'auto' in 1.4. Set the value of `n_init` explicitly to suppress the warning\n",
      "  warnings.warn(\n",
      "c:\\Users\\somas\\AppData\\Local\\Programs\\Python\\Python310\\lib\\site-packages\\sklearn\\cluster\\_kmeans.py:870: FutureWarning: The default value of `n_init` will change from 10 to 'auto' in 1.4. Set the value of `n_init` explicitly to suppress the warning\n",
      "  warnings.warn(\n",
      "c:\\Users\\somas\\AppData\\Local\\Programs\\Python\\Python310\\lib\\site-packages\\sklearn\\cluster\\_kmeans.py:870: FutureWarning: The default value of `n_init` will change from 10 to 'auto' in 1.4. Set the value of `n_init` explicitly to suppress the warning\n",
      "  warnings.warn(\n",
      "c:\\Users\\somas\\AppData\\Local\\Programs\\Python\\Python310\\lib\\site-packages\\sklearn\\cluster\\_kmeans.py:870: FutureWarning: The default value of `n_init` will change from 10 to 'auto' in 1.4. Set the value of `n_init` explicitly to suppress the warning\n",
      "  warnings.warn(\n",
      "c:\\Users\\somas\\AppData\\Local\\Programs\\Python\\Python310\\lib\\site-packages\\sklearn\\cluster\\_kmeans.py:870: FutureWarning: The default value of `n_init` will change from 10 to 'auto' in 1.4. Set the value of `n_init` explicitly to suppress the warning\n",
      "  warnings.warn(\n",
      "c:\\Users\\somas\\AppData\\Local\\Programs\\Python\\Python310\\lib\\site-packages\\sklearn\\cluster\\_kmeans.py:870: FutureWarning: The default value of `n_init` will change from 10 to 'auto' in 1.4. Set the value of `n_init` explicitly to suppress the warning\n",
      "  warnings.warn(\n",
      "c:\\Users\\somas\\AppData\\Local\\Programs\\Python\\Python310\\lib\\site-packages\\sklearn\\cluster\\_kmeans.py:870: FutureWarning: The default value of `n_init` will change from 10 to 'auto' in 1.4. Set the value of `n_init` explicitly to suppress the warning\n",
      "  warnings.warn(\n",
      "c:\\Users\\somas\\AppData\\Local\\Programs\\Python\\Python310\\lib\\site-packages\\sklearn\\cluster\\_kmeans.py:870: FutureWarning: The default value of `n_init` will change from 10 to 'auto' in 1.4. Set the value of `n_init` explicitly to suppress the warning\n",
      "  warnings.warn(\n"
     ]
    }
   ],
   "source": [
    "from sklearn.cluster import KMeans\n",
    "\n",
    "Sum_of_squared_distances = []\n",
    "K = range(1,15)\n",
    "for k in K:\n",
    "    km = KMeans(n_clusters=k)\n",
    "    km = km.fit(songs_features)\n",
    "    Sum_of_squared_distances.append(km.inertia_)"
   ]
  },
  {
   "cell_type": "code",
   "execution_count": 103,
   "metadata": {},
   "outputs": [
    {
     "name": "stderr",
     "output_type": "stream",
     "text": [
      "c:\\Users\\somas\\AppData\\Local\\Programs\\Python\\Python310\\lib\\site-packages\\sklearn\\cluster\\_kmeans.py:870: FutureWarning: The default value of `n_init` will change from 10 to 'auto' in 1.4. Set the value of `n_init` explicitly to suppress the warning\n",
      "  warnings.warn(\n"
     ]
    },
    {
     "name": "stdout",
     "output_type": "stream",
     "text": [
      "For n_clusters = 2, silhouette score is 0.42633630540466755)\n",
      "For n_clusters = 3, silhouette score is 0.29187687647321353)\n"
     ]
    },
    {
     "name": "stderr",
     "output_type": "stream",
     "text": [
      "c:\\Users\\somas\\AppData\\Local\\Programs\\Python\\Python310\\lib\\site-packages\\sklearn\\cluster\\_kmeans.py:870: FutureWarning: The default value of `n_init` will change from 10 to 'auto' in 1.4. Set the value of `n_init` explicitly to suppress the warning\n",
      "  warnings.warn(\n",
      "c:\\Users\\somas\\AppData\\Local\\Programs\\Python\\Python310\\lib\\site-packages\\sklearn\\cluster\\_kmeans.py:870: FutureWarning: The default value of `n_init` will change from 10 to 'auto' in 1.4. Set the value of `n_init` explicitly to suppress the warning\n",
      "  warnings.warn(\n"
     ]
    },
    {
     "name": "stdout",
     "output_type": "stream",
     "text": [
      "For n_clusters = 4, silhouette score is 0.3015869575184631)\n",
      "For n_clusters = 5, silhouette score is 0.27435594495069804)\n"
     ]
    },
    {
     "name": "stderr",
     "output_type": "stream",
     "text": [
      "c:\\Users\\somas\\AppData\\Local\\Programs\\Python\\Python310\\lib\\site-packages\\sklearn\\cluster\\_kmeans.py:870: FutureWarning: The default value of `n_init` will change from 10 to 'auto' in 1.4. Set the value of `n_init` explicitly to suppress the warning\n",
      "  warnings.warn(\n",
      "c:\\Users\\somas\\AppData\\Local\\Programs\\Python\\Python310\\lib\\site-packages\\sklearn\\cluster\\_kmeans.py:870: FutureWarning: The default value of `n_init` will change from 10 to 'auto' in 1.4. Set the value of `n_init` explicitly to suppress the warning\n",
      "  warnings.warn(\n"
     ]
    },
    {
     "name": "stdout",
     "output_type": "stream",
     "text": [
      "For n_clusters = 6, silhouette score is 0.24301116355143598)\n"
     ]
    },
    {
     "name": "stderr",
     "output_type": "stream",
     "text": [
      "c:\\Users\\somas\\AppData\\Local\\Programs\\Python\\Python310\\lib\\site-packages\\sklearn\\cluster\\_kmeans.py:870: FutureWarning: The default value of `n_init` will change from 10 to 'auto' in 1.4. Set the value of `n_init` explicitly to suppress the warning\n",
      "  warnings.warn(\n"
     ]
    },
    {
     "name": "stdout",
     "output_type": "stream",
     "text": [
      "For n_clusters = 7, silhouette score is 0.24137783666260668)\n"
     ]
    },
    {
     "name": "stderr",
     "output_type": "stream",
     "text": [
      "c:\\Users\\somas\\AppData\\Local\\Programs\\Python\\Python310\\lib\\site-packages\\sklearn\\cluster\\_kmeans.py:870: FutureWarning: The default value of `n_init` will change from 10 to 'auto' in 1.4. Set the value of `n_init` explicitly to suppress the warning\n",
      "  warnings.warn(\n"
     ]
    },
    {
     "name": "stdout",
     "output_type": "stream",
     "text": [
      "For n_clusters = 8, silhouette score is 0.22686428006169812)\n"
     ]
    },
    {
     "name": "stderr",
     "output_type": "stream",
     "text": [
      "c:\\Users\\somas\\AppData\\Local\\Programs\\Python\\Python310\\lib\\site-packages\\sklearn\\cluster\\_kmeans.py:870: FutureWarning: The default value of `n_init` will change from 10 to 'auto' in 1.4. Set the value of `n_init` explicitly to suppress the warning\n",
      "  warnings.warn(\n"
     ]
    },
    {
     "name": "stdout",
     "output_type": "stream",
     "text": [
      "For n_clusters = 9, silhouette score is 0.22558996461295996)\n"
     ]
    },
    {
     "name": "stderr",
     "output_type": "stream",
     "text": [
      "c:\\Users\\somas\\AppData\\Local\\Programs\\Python\\Python310\\lib\\site-packages\\sklearn\\cluster\\_kmeans.py:870: FutureWarning: The default value of `n_init` will change from 10 to 'auto' in 1.4. Set the value of `n_init` explicitly to suppress the warning\n",
      "  warnings.warn(\n"
     ]
    },
    {
     "name": "stdout",
     "output_type": "stream",
     "text": [
      "For n_clusters = 10, silhouette score is 0.22830204231082468)\n"
     ]
    },
    {
     "name": "stderr",
     "output_type": "stream",
     "text": [
      "c:\\Users\\somas\\AppData\\Local\\Programs\\Python\\Python310\\lib\\site-packages\\sklearn\\cluster\\_kmeans.py:870: FutureWarning: The default value of `n_init` will change from 10 to 'auto' in 1.4. Set the value of `n_init` explicitly to suppress the warning\n",
      "  warnings.warn(\n"
     ]
    },
    {
     "name": "stdout",
     "output_type": "stream",
     "text": [
      "For n_clusters = 11, silhouette score is 0.21764351408723298)\n"
     ]
    },
    {
     "name": "stderr",
     "output_type": "stream",
     "text": [
      "c:\\Users\\somas\\AppData\\Local\\Programs\\Python\\Python310\\lib\\site-packages\\sklearn\\cluster\\_kmeans.py:870: FutureWarning: The default value of `n_init` will change from 10 to 'auto' in 1.4. Set the value of `n_init` explicitly to suppress the warning\n",
      "  warnings.warn(\n"
     ]
    },
    {
     "name": "stdout",
     "output_type": "stream",
     "text": [
      "For n_clusters = 12, silhouette score is 0.20863571346965842)\n"
     ]
    },
    {
     "name": "stderr",
     "output_type": "stream",
     "text": [
      "c:\\Users\\somas\\AppData\\Local\\Programs\\Python\\Python310\\lib\\site-packages\\sklearn\\cluster\\_kmeans.py:870: FutureWarning: The default value of `n_init` will change from 10 to 'auto' in 1.4. Set the value of `n_init` explicitly to suppress the warning\n",
      "  warnings.warn(\n"
     ]
    },
    {
     "name": "stdout",
     "output_type": "stream",
     "text": [
      "For n_clusters = 13, silhouette score is 0.20639227513007113)\n"
     ]
    },
    {
     "name": "stderr",
     "output_type": "stream",
     "text": [
      "c:\\Users\\somas\\AppData\\Local\\Programs\\Python\\Python310\\lib\\site-packages\\sklearn\\cluster\\_kmeans.py:870: FutureWarning: The default value of `n_init` will change from 10 to 'auto' in 1.4. Set the value of `n_init` explicitly to suppress the warning\n",
      "  warnings.warn(\n"
     ]
    },
    {
     "name": "stdout",
     "output_type": "stream",
     "text": [
      "For n_clusters = 14, silhouette score is 0.20080651434052454)\n"
     ]
    }
   ],
   "source": [
    "from sklearn.metrics import silhouette_score\n",
    "for n_clusters in range(2,15):\n",
    "    clusterer = KMeans (n_clusters=n_clusters)\n",
    "    preds = clusterer.fit_predict(songs_features)\n",
    "    centers = clusterer.cluster_centers_\n",
    "\n",
    "    score = silhouette_score (songs_features, preds, metric='euclidean')\n",
    "    print (\"For n_clusters = {}, silhouette score is {})\".format(n_clusters, score))"
   ]
  },
  {
   "cell_type": "code",
   "execution_count": 104,
   "metadata": {},
   "outputs": [
    {
     "data": {
      "image/png": "[encoded data removed]",
      "text/plain": [
       "<Figure size 432x288 with 1 Axes>"
      ]
     },
     "metadata": {},
     "output_type": "display_data"
    }
   ],
   "source": [
    "plt.plot(K, Sum_of_squared_distances, 'gx-')\n",
    "plt.xlabel('k')\n",
    "plt.ylabel('Sum_of_squared_distances')\n",
    "plt.title('Elbow Method For Optimal k')\n",
    "plt.show()"
   ]
  },
  {
   "cell_type": "code",
   "execution_count": 105,
   "metadata": {},
   "outputs": [
    {
     "name": "stderr",
     "output_type": "stream",
     "text": [
      "c:\\Users\\somas\\AppData\\Local\\Programs\\Python\\Python310\\lib\\site-packages\\sklearn\\cluster\\_kmeans.py:870: FutureWarning: The default value of `n_init` will change from 10 to 'auto' in 1.4. Set the value of `n_init` explicitly to suppress the warning\n",
      "  warnings.warn(\n"
     ]
    },
    {
     "data": {
      "text/html": [
       "<style>#sk-container-id-9 {color: black;background-color: white;}#sk-container-id-9 pre{padding: 0;}#sk-container-id-9 div.sk-toggleable {background-color: white;}#sk-container-id-9 label.sk-toggleable__label {cursor: pointer;display: block;width: 100%;margin-bottom: 0;padding: 0.3em;box-sizing: border-box;text-align: center;}#sk-container-id-9 label.sk-toggleable__label-arrow:before {content: \"▸\";float: left;margin-right: 0.25em;color: #696969;}#sk-container-id-9 label.sk-toggleable__label-arrow:hover:before {color: black;}#sk-container-id-9 div.sk-estimator:hover label.sk-toggleable__label-arrow:before {color: black;}#sk-container-id-9 div.sk-toggleable__content {max-height: 0;max-width: 0;overflow: hidden;text-align: left;background-color: #f0f8ff;}#sk-container-id-9 div.sk-toggleable__content pre {margin: 0.2em;color: black;border-radius: 0.25em;background-color: #f0f8ff;}#sk-container-id-9 input.sk-toggleable__control:checked~div.sk-toggleable__content {max-height: 200px;max-width: 100%;overflow: auto;}#sk-container-id-9 input.sk-toggleable__control:checked~label.sk-toggleable__label-arrow:before {content: \"▾\";}#sk-container-id-9 div.sk-estimator input.sk-toggleable__control:checked~label.sk-toggleable__label {background-color: #d4ebff;}#sk-container-id-9 div.sk-label input.sk-toggleable__control:checked~label.sk-toggleable__label {background-color: #d4ebff;}#sk-container-id-9 input.sk-hidden--visually {border: 0;clip: rect(1px 1px 1px 1px);clip: rect(1px, 1px, 1px, 1px);height: 1px;margin: -1px;overflow: hidden;padding: 0;position: absolute;width: 1px;}#sk-container-id-9 div.sk-estimator {font-family: monospace;background-color: #f0f8ff;border: 1px dotted black;border-radius: 0.25em;box-sizing: border-box;margin-bottom: 0.5em;}#sk-container-id-9 div.sk-estimator:hover {background-color: #d4ebff;}#sk-container-id-9 div.sk-parallel-item::after {content: \"\";width: 100%;border-bottom: 1px solid gray;flex-grow: 1;}#sk-container-id-9 div.sk-label:hover label.sk-toggleable__label {background-color: #d4ebff;}#sk-container-id-9 div.sk-serial::before {content: \"\";position: absolute;border-left: 1px solid gray;box-sizing: border-box;top: 0;bottom: 0;left: 50%;z-index: 0;}#sk-container-id-9 div.sk-serial {display: flex;flex-direction: column;align-items: center;background-color: white;padding-right: 0.2em;padding-left: 0.2em;position: relative;}#sk-container-id-9 div.sk-item {position: relative;z-index: 1;}#sk-container-id-9 div.sk-parallel {display: flex;align-items: stretch;justify-content: center;background-color: white;position: relative;}#sk-container-id-9 div.sk-item::before, #sk-container-id-9 div.sk-parallel-item::before {content: \"\";position: absolute;border-left: 1px solid gray;box-sizing: border-box;top: 0;bottom: 0;left: 50%;z-index: -1;}#sk-container-id-9 div.sk-parallel-item {display: flex;flex-direction: column;z-index: 1;position: relative;background-color: white;}#sk-container-id-9 div.sk-parallel-item:first-child::after {align-self: flex-end;width: 50%;}#sk-container-id-9 div.sk-parallel-item:last-child::after {align-self: flex-start;width: 50%;}#sk-container-id-9 div.sk-parallel-item:only-child::after {width: 0;}#sk-container-id-9 div.sk-dashed-wrapped {border: 1px dashed gray;margin: 0 0.4em 0.5em 0.4em;box-sizing: border-box;padding-bottom: 0.4em;background-color: white;}#sk-container-id-9 div.sk-label label {font-family: monospace;font-weight: bold;display: inline-block;line-height: 1.2em;}#sk-container-id-9 div.sk-label-container {text-align: center;}#sk-container-id-9 div.sk-container {/* jupyter's `normalize.less` sets `[hidden] { display: none; }` but bootstrap.min.css set `[hidden] { display: none !important; }` so we also need the `!important` here to be able to override the default hidden behavior on the sphinx rendered scikit-learn.org. See: https://github.com/scikit-learn/scikit-learn/issues/21755 */display: inline-block !important;position: relative;}#sk-container-id-9 div.sk-text-repr-fallback {display: none;}</style><div id=\"sk-container-id-9\" class=\"sk-top-container\"><div class=\"sk-text-repr-fallback\"><pre>KMeans(n_clusters=4)</pre><b>In a Jupyter environment, please rerun this cell to show the HTML representation or trust the notebook. <br />On GitHub, the HTML representation is unable to render, please try loading this page with nbviewer.org.</b></div><div class=\"sk-container\" hidden><div class=\"sk-item\"><div class=\"sk-estimator sk-toggleable\"><input class=\"sk-toggleable__control sk-hidden--visually\" id=\"sk-estimator-id-9\" type=\"checkbox\" checked><label for=\"sk-estimator-id-9\" class=\"sk-toggleable__label sk-toggleable__label-arrow\">KMeans</label><div class=\"sk-toggleable__content\"><pre>KMeans(n_clusters=4)</pre></div></div></div></div></div>"
      ],
      "text/plain": [
       "KMeans(n_clusters=4)"
      ]
     },
     "execution_count": 105,
     "metadata": {},
     "output_type": "execute_result"
    }
   ],
   "source": [
    "kmeans = KMeans(n_clusters=4)\n",
    "kmeans.fit(songs_features)\n"
   ]
  },
  {
   "cell_type": "code",
   "execution_count": 106,
   "metadata": {},
   "outputs": [],
   "source": [
    "# PCA to reduce our data to 2 dimensions for visualisation\n",
    "from sklearn.decomposition import PCA\n",
    "y_kmeans = kmeans.predict(songs_features)\n",
    "pca = PCA(n_components=2)\n",
    "principal_components = pca.fit_transform(songs_features)\n"
   ]
  },
  {
   "cell_type": "code",
   "execution_count": 107,
   "metadata": {},
   "outputs": [
    {
     "name": "stderr",
     "output_type": "stream",
     "text": [
      "c:\\Users\\somas\\AppData\\Local\\Programs\\Python\\Python310\\lib\\site-packages\\seaborn\\regression.py:582: UserWarning: legend_out is deprecated from the `lmplot` function signature. Please update your code to pass it using `facet_kws`.\n",
      "  warnings.warn(msg, UserWarning)\n"
     ]
    },
    {
     "data": {
      "image/png": "[encoded data removed]",
      "text/plain": [
       "<Figure size 401.625x360 with 1 Axes>"
      ]
     },
     "metadata": {},
     "output_type": "display_data"
    }
   ],
   "source": [
    "pc = pd.DataFrame(principal_components)\n",
    "pc['label'] = y_kmeans\n",
    "pc.columns = ['x', 'y','label']\n",
    "\n",
    "#plot data with seaborn\n",
    "cluster = sns.lmplot(data=pc, x='x', y='y', hue='label', \n",
    "                   fit_reg=False, legend=True, legend_out=True)\n"
   ]
  },
  {
   "cell_type": "code",
   "execution_count": 108,
   "metadata": {},
   "outputs": [],
   "source": [
    "from sklearn.manifold import TSNE #T-Distributed Stochastic Neighbor Embedding\n",
    "#T-SNE with two dimensions\n",
    "tsne = TSNE(n_components=2, perplexity=50)\n",
    "\n",
    "tsne_components = tsne.fit_transform(songs_features)"
   ]
  },
  {
   "cell_type": "code",
   "execution_count": 109,
   "metadata": {},
   "outputs": [
    {
     "name": "stderr",
     "output_type": "stream",
     "text": [
      "c:\\Users\\somas\\AppData\\Local\\Programs\\Python\\Python310\\lib\\site-packages\\seaborn\\regression.py:582: UserWarning: legend_out is deprecated from the `lmplot` function signature. Please update your code to pass it using `facet_kws`.\n",
      "  warnings.warn(msg, UserWarning)\n"
     ]
    },
    {
     "data": {
      "image/png": "[encoded data removed]",
      "text/plain": [
       "<Figure size 401.625x360 with 1 Axes>"
      ]
     },
     "metadata": {},
     "output_type": "display_data"
    }
   ],
   "source": [
    "ts = pd.DataFrame(tsne_components)\n",
    "ts['label'] = y_kmeans\n",
    "ts.columns = ['x', 'y','label']\n",
    "\n",
    "#plot data with seaborn\n",
    "cluster = sns.lmplot(data=ts, x='x', y='y', hue='label', \n",
    "                   fit_reg=False, legend=True, legend_out=True)"
   ]
  },
  {
   "cell_type": "code",
   "execution_count": 110,
   "metadata": {},
   "outputs": [
    {
     "data": {
      "text/plain": [
       "array([0.65247375, 0.15449162])"
      ]
     },
     "execution_count": 110,
     "metadata": {},
     "output_type": "execute_result"
    }
   ],
   "source": [
    "pca.explained_variance_ratio_"
   ]
  },
  {
   "cell_type": "markdown",
   "metadata": {},
   "source": [
    "The explained variance tells you how much information (variance) can be attributed to each of the principal components. By looking at the explained_variance_ratio_ we can see the 1st component contains 87% and the 2nd 5% which implies we've retained 92% of the original variance in the data which is awesome! "
   ]
  },
  {
   "cell_type": "code",
   "execution_count": 111,
   "metadata": {},
   "outputs": [
    {
     "name": "stdout",
     "output_type": "stream",
     "text": [
      "      danceability  acousticness  liveness  loudness  speechiness\n",
      "PC-1     -0.316390      0.934839  0.114335 -0.102711    -0.048496\n",
      "PC-2     -0.139669     -0.154864  0.973366  0.090994     0.028071\n"
     ]
    }
   ],
   "source": [
    "# Dump components relations with features:\n",
    "print (pd.DataFrame(pca.components_,columns=songs_features.columns,index = ['PC-1','PC-2']))\n"
   ]
  },
  {
   "cell_type": "markdown",
   "metadata": {},
   "source": [
    "# Next step lets explore each of the 4 clusters and see what songs they contain"
   ]
  },
  {
   "cell_type": "code",
   "execution_count": 112,
   "metadata": {},
   "outputs": [
    {
     "data": {
      "text/plain": [
       "1    764\n",
       "2    527\n",
       "0    480\n",
       "3    143\n",
       "Name: label, dtype: int64"
      ]
     },
     "execution_count": 112,
     "metadata": {},
     "output_type": "execute_result"
    }
   ],
   "source": [
    "songs['label'] = y_kmeans\n",
    "\n",
    "# shuffle dataset\n",
    "\n",
    "songs = songs.sample(frac=1)\n",
    "songs['label'].value_counts()"
   ]
  },
  {
   "cell_type": "code",
   "execution_count": 113,
   "metadata": {},
   "outputs": [
    {
     "data": {
      "text/html": [
       "<div>\n",
       "<style scoped>\n",
       "    .dataframe tbody tr th:only-of-type {\n",
       "        vertical-align: middle;\n",
       "    }\n",
       "\n",
       "    .dataframe tbody tr th {\n",
       "        vertical-align: top;\n",
       "    }\n",
       "\n",
       "    .dataframe thead th {\n",
       "        text-align: right;\n",
       "    }\n",
       "</style>\n",
       "<table border=\"1\" class=\"dataframe\">\n",
       "  <thead>\n",
       "    <tr style=\"text-align: right;\">\n",
       "      <th></th>\n",
       "      <th>name</th>\n",
       "      <th>artist</th>\n",
       "      <th>id</th>\n",
       "      <th>danceability</th>\n",
       "      <th>acousticness</th>\n",
       "      <th>liveness</th>\n",
       "      <th>loudness</th>\n",
       "      <th>speechiness</th>\n",
       "      <th>label</th>\n",
       "    </tr>\n",
       "  </thead>\n",
       "  <tbody>\n",
       "    <tr>\n",
       "      <th>140</th>\n",
       "      <td>Malliyalaara</td>\n",
       "      <td>Ghantasala</td>\n",
       "      <td>7xE6g8ncPtqJ0xbkaK1tVn</td>\n",
       "      <td>0.426</td>\n",
       "      <td>0.970</td>\n",
       "      <td>0.3280</td>\n",
       "      <td>0.738371</td>\n",
       "      <td>0.0327</td>\n",
       "      <td>0</td>\n",
       "    </tr>\n",
       "    <tr>\n",
       "      <th>1591</th>\n",
       "      <td>Kannanule - Bombay / Soundtrack Version</td>\n",
       "      <td>Various Artists</td>\n",
       "      <td>5jyHsyGvIxawivb6enu5H3</td>\n",
       "      <td>0.724</td>\n",
       "      <td>0.719</td>\n",
       "      <td>0.0778</td>\n",
       "      <td>0.388122</td>\n",
       "      <td>0.0662</td>\n",
       "      <td>0</td>\n",
       "    </tr>\n",
       "    <tr>\n",
       "      <th>186</th>\n",
       "      <td>Laayi Laayi</td>\n",
       "      <td>Ilaiyaraaja</td>\n",
       "      <td>1UiORBsodWhAydO2SjQyei</td>\n",
       "      <td>0.631</td>\n",
       "      <td>0.743</td>\n",
       "      <td>0.1600</td>\n",
       "      <td>0.707292</td>\n",
       "      <td>0.0311</td>\n",
       "      <td>0</td>\n",
       "    </tr>\n",
       "    <tr>\n",
       "      <th>1097</th>\n",
       "      <td>Jathero Mara Sathero</td>\n",
       "      <td>Suhasini</td>\n",
       "      <td>0HpaK2VS6hxELS80TBIIEW</td>\n",
       "      <td>0.707</td>\n",
       "      <td>0.742</td>\n",
       "      <td>0.1070</td>\n",
       "      <td>0.753121</td>\n",
       "      <td>0.0470</td>\n",
       "      <td>0</td>\n",
       "    </tr>\n",
       "    <tr>\n",
       "      <th>305</th>\n",
       "      <td>Oura Ammaka Chella</td>\n",
       "      <td>M. M. Keeravani</td>\n",
       "      <td>06eQc1YB0r8HCO9uQmgAYs</td>\n",
       "      <td>0.605</td>\n",
       "      <td>0.837</td>\n",
       "      <td>0.0947</td>\n",
       "      <td>0.656992</td>\n",
       "      <td>0.0986</td>\n",
       "      <td>0</td>\n",
       "    </tr>\n",
       "    <tr>\n",
       "      <th>1784</th>\n",
       "      <td>Sri Kantimateem: Kriti</td>\n",
       "      <td>N. Ravikiran</td>\n",
       "      <td>4hg9XXjCehm0dJTXQkAfWj</td>\n",
       "      <td>0.497</td>\n",
       "      <td>0.814</td>\n",
       "      <td>0.0976</td>\n",
       "      <td>0.000000</td>\n",
       "      <td>0.0583</td>\n",
       "      <td>0</td>\n",
       "    </tr>\n",
       "    <tr>\n",
       "      <th>1180</th>\n",
       "      <td>Okkade Devudu</td>\n",
       "      <td>M. M. Keeravani</td>\n",
       "      <td>4Bw3vYUoogYvHMEcVbUWXL</td>\n",
       "      <td>0.501</td>\n",
       "      <td>0.778</td>\n",
       "      <td>0.1080</td>\n",
       "      <td>0.779284</td>\n",
       "      <td>0.1310</td>\n",
       "      <td>0</td>\n",
       "    </tr>\n",
       "    <tr>\n",
       "      <th>166</th>\n",
       "      <td>Alupannadi</td>\n",
       "      <td>Sri</td>\n",
       "      <td>6RnalZcp3Dpad8MVEg8D2I</td>\n",
       "      <td>0.593</td>\n",
       "      <td>0.773</td>\n",
       "      <td>0.0788</td>\n",
       "      <td>0.645281</td>\n",
       "      <td>0.1170</td>\n",
       "      <td>0</td>\n",
       "    </tr>\n",
       "    <tr>\n",
       "      <th>90</th>\n",
       "      <td>Entha Haayi Ee Reyi</td>\n",
       "      <td>Ghantasala</td>\n",
       "      <td>3oDagAytgxL3EgkjJimAWc</td>\n",
       "      <td>0.484</td>\n",
       "      <td>0.856</td>\n",
       "      <td>0.2790</td>\n",
       "      <td>0.804821</td>\n",
       "      <td>0.0361</td>\n",
       "      <td>0</td>\n",
       "    </tr>\n",
       "    <tr>\n",
       "      <th>997</th>\n",
       "      <td>Neeve</td>\n",
       "      <td>Vishwajeet Deshpande</td>\n",
       "      <td>2OkzzsjzDFMX7xdfdyufGL</td>\n",
       "      <td>0.433</td>\n",
       "      <td>0.671</td>\n",
       "      <td>0.0993</td>\n",
       "      <td>0.636938</td>\n",
       "      <td>0.0361</td>\n",
       "      <td>0</td>\n",
       "    </tr>\n",
       "    <tr>\n",
       "      <th>1188</th>\n",
       "      <td>Syamasundaraa</td>\n",
       "      <td>Various Artists</td>\n",
       "      <td>4CMXukS5reNAAOtN5pNOp7</td>\n",
       "      <td>0.351</td>\n",
       "      <td>0.974</td>\n",
       "      <td>0.2790</td>\n",
       "      <td>0.644268</td>\n",
       "      <td>0.1610</td>\n",
       "      <td>0</td>\n",
       "    </tr>\n",
       "    <tr>\n",
       "      <th>1690</th>\n",
       "      <td>Kola Kalle Ilaa</td>\n",
       "      <td>Vishal Chandrashekhar</td>\n",
       "      <td>7GfyeCjPx05EUlAfMksojh</td>\n",
       "      <td>0.575</td>\n",
       "      <td>0.684</td>\n",
       "      <td>0.0775</td>\n",
       "      <td>0.640812</td>\n",
       "      <td>0.0380</td>\n",
       "      <td>0</td>\n",
       "    </tr>\n",
       "    <tr>\n",
       "      <th>1734</th>\n",
       "      <td>Bhagyada Lakshmi Baramma - Instrumental</td>\n",
       "      <td>Veena Srivani</td>\n",
       "      <td>0cckP8UhJqr6XhQ3ijAuTD</td>\n",
       "      <td>0.540</td>\n",
       "      <td>0.870</td>\n",
       "      <td>0.0900</td>\n",
       "      <td>0.763223</td>\n",
       "      <td>0.0312</td>\n",
       "      <td>0</td>\n",
       "    </tr>\n",
       "    <tr>\n",
       "      <th>1741</th>\n",
       "      <td>Krishnanee Begane - Ragam: Yaman / Talam: Mish...</td>\n",
       "      <td>Lalgudi G. Jayaraman</td>\n",
       "      <td>2drAAhn6C7ijUx3KlTbevR</td>\n",
       "      <td>0.346</td>\n",
       "      <td>0.992</td>\n",
       "      <td>0.2850</td>\n",
       "      <td>0.608361</td>\n",
       "      <td>0.0528</td>\n",
       "      <td>0</td>\n",
       "    </tr>\n",
       "    <tr>\n",
       "      <th>441</th>\n",
       "      <td>Vasthadu Naaraaju, Pt. 1</td>\n",
       "      <td>P.Adinarayana Rao</td>\n",
       "      <td>4OsLaYdGnrIP4kMAx1YVqF</td>\n",
       "      <td>0.609</td>\n",
       "      <td>0.829</td>\n",
       "      <td>0.1280</td>\n",
       "      <td>0.816800</td>\n",
       "      <td>0.0798</td>\n",
       "      <td>0</td>\n",
       "    </tr>\n",
       "  </tbody>\n",
       "</table>\n",
       "</div>"
      ],
      "text/plain": [
       "                                                   name  \\\n",
       "140                                        Malliyalaara   \n",
       "1591            Kannanule - Bombay / Soundtrack Version   \n",
       "186                                         Laayi Laayi   \n",
       "1097                               Jathero Mara Sathero   \n",
       "305                                  Oura Ammaka Chella   \n",
       "1784                             Sri Kantimateem: Kriti   \n",
       "1180                                      Okkade Devudu   \n",
       "166                                          Alupannadi   \n",
       "90                                  Entha Haayi Ee Reyi   \n",
       "997                                               Neeve   \n",
       "1188                                      Syamasundaraa   \n",
       "1690                                    Kola Kalle Ilaa   \n",
       "1734            Bhagyada Lakshmi Baramma - Instrumental   \n",
       "1741  Krishnanee Begane - Ragam: Yaman / Talam: Mish...   \n",
       "441                            Vasthadu Naaraaju, Pt. 1   \n",
       "\n",
       "                     artist                      id  danceability  \\\n",
       "140              Ghantasala  7xE6g8ncPtqJ0xbkaK1tVn         0.426   \n",
       "1591        Various Artists  5jyHsyGvIxawivb6enu5H3         0.724   \n",
       "186             Ilaiyaraaja  1UiORBsodWhAydO2SjQyei         0.631   \n",
       "1097               Suhasini  0HpaK2VS6hxELS80TBIIEW         0.707   \n",
       "305         M. M. Keeravani  06eQc1YB0r8HCO9uQmgAYs         0.605   \n",
       "1784           N. Ravikiran  4hg9XXjCehm0dJTXQkAfWj         0.497   \n",
       "1180        M. M. Keeravani  4Bw3vYUoogYvHMEcVbUWXL         0.501   \n",
       "166                     Sri  6RnalZcp3Dpad8MVEg8D2I         0.593   \n",
       "90               Ghantasala  3oDagAytgxL3EgkjJimAWc         0.484   \n",
       "997    Vishwajeet Deshpande  2OkzzsjzDFMX7xdfdyufGL         0.433   \n",
       "1188        Various Artists  4CMXukS5reNAAOtN5pNOp7         0.351   \n",
       "1690  Vishal Chandrashekhar  7GfyeCjPx05EUlAfMksojh         0.575   \n",
       "1734          Veena Srivani  0cckP8UhJqr6XhQ3ijAuTD         0.540   \n",
       "1741   Lalgudi G. Jayaraman  2drAAhn6C7ijUx3KlTbevR         0.346   \n",
       "441       P.Adinarayana Rao  4OsLaYdGnrIP4kMAx1YVqF         0.609   \n",
       "\n",
       "      acousticness  liveness  loudness  speechiness  label  \n",
       "140          0.970    0.3280  0.738371       0.0327      0  \n",
       "1591         0.719    0.0778  0.388122       0.0662      0  \n",
       "186          0.743    0.1600  0.707292       0.0311      0  \n",
       "1097         0.742    0.1070  0.753121       0.0470      0  \n",
       "305          0.837    0.0947  0.656992       0.0986      0  \n",
       "1784         0.814    0.0976  0.000000       0.0583      0  \n",
       "1180         0.778    0.1080  0.779284       0.1310      0  \n",
       "166          0.773    0.0788  0.645281       0.1170      0  \n",
       "90           0.856    0.2790  0.804821       0.0361      0  \n",
       "997          0.671    0.0993  0.636938       0.0361      0  \n",
       "1188         0.974    0.2790  0.644268       0.1610      0  \n",
       "1690         0.684    0.0775  0.640812       0.0380      0  \n",
       "1734         0.870    0.0900  0.763223       0.0312      0  \n",
       "1741         0.992    0.2850  0.608361       0.0528      0  \n",
       "441          0.829    0.1280  0.816800       0.0798      0  "
      ]
     },
     "execution_count": 113,
     "metadata": {},
     "output_type": "execute_result"
    }
   ],
   "source": [
    "songs[songs['label'] == 0].tail(15)"
   ]
  },
  {
   "cell_type": "code",
   "execution_count": 114,
   "metadata": {},
   "outputs": [
    {
     "data": {
      "text/html": [
       "<div>\n",
       "<style scoped>\n",
       "    .dataframe tbody tr th:only-of-type {\n",
       "        vertical-align: middle;\n",
       "    }\n",
       "\n",
       "    .dataframe tbody tr th {\n",
       "        vertical-align: top;\n",
       "    }\n",
       "\n",
       "    .dataframe thead th {\n",
       "        text-align: right;\n",
       "    }\n",
       "</style>\n",
       "<table border=\"1\" class=\"dataframe\">\n",
       "  <thead>\n",
       "    <tr style=\"text-align: right;\">\n",
       "      <th></th>\n",
       "      <th>name</th>\n",
       "      <th>artist</th>\n",
       "      <th>id</th>\n",
       "      <th>danceability</th>\n",
       "      <th>acousticness</th>\n",
       "      <th>liveness</th>\n",
       "      <th>loudness</th>\n",
       "      <th>speechiness</th>\n",
       "      <th>label</th>\n",
       "    </tr>\n",
       "  </thead>\n",
       "  <tbody>\n",
       "    <tr>\n",
       "      <th>673</th>\n",
       "      <td>Young Yama</td>\n",
       "      <td>M. M. Keeravani</td>\n",
       "      <td>6IeCCRQ6YyuuhssuUCkYjD</td>\n",
       "      <td>0.793</td>\n",
       "      <td>0.3250</td>\n",
       "      <td>0.1110</td>\n",
       "      <td>0.695283</td>\n",
       "      <td>0.2820</td>\n",
       "      <td>1</td>\n",
       "    </tr>\n",
       "    <tr>\n",
       "      <th>1595</th>\n",
       "      <td>Mudinepalli</td>\n",
       "      <td>A.R. Rahman</td>\n",
       "      <td>1PTzecwxty4LH1X663ngQp</td>\n",
       "      <td>0.863</td>\n",
       "      <td>0.0591</td>\n",
       "      <td>0.0399</td>\n",
       "      <td>0.741262</td>\n",
       "      <td>0.1810</td>\n",
       "      <td>1</td>\n",
       "    </tr>\n",
       "    <tr>\n",
       "      <th>1453</th>\n",
       "      <td>Padham Vedichi</td>\n",
       "      <td>Joshua Sridhar</td>\n",
       "      <td>65JiHy0oKifLvpcW3U7pA9</td>\n",
       "      <td>0.779</td>\n",
       "      <td>0.0371</td>\n",
       "      <td>0.0948</td>\n",
       "      <td>0.657052</td>\n",
       "      <td>0.1000</td>\n",
       "      <td>1</td>\n",
       "    </tr>\n",
       "    <tr>\n",
       "      <th>1493</th>\n",
       "      <td>Maayera</td>\n",
       "      <td>Harris Jayaraj</td>\n",
       "      <td>4ZI79kwi84DJcbiYFygJwW</td>\n",
       "      <td>0.780</td>\n",
       "      <td>0.0218</td>\n",
       "      <td>0.1090</td>\n",
       "      <td>0.678387</td>\n",
       "      <td>0.0443</td>\n",
       "      <td>1</td>\n",
       "    </tr>\n",
       "    <tr>\n",
       "      <th>388</th>\n",
       "      <td>Poolaguwavaa</td>\n",
       "      <td>Sandeep Bowmik</td>\n",
       "      <td>6s3edis0BJf1e5lwg7rrKU</td>\n",
       "      <td>0.726</td>\n",
       "      <td>0.2590</td>\n",
       "      <td>0.1050</td>\n",
       "      <td>0.665246</td>\n",
       "      <td>0.3880</td>\n",
       "      <td>1</td>\n",
       "    </tr>\n",
       "    <tr>\n",
       "      <th>957</th>\n",
       "      <td>Nee Kannulu</td>\n",
       "      <td>Shekar Chandra</td>\n",
       "      <td>1iyWzBAthsLghPEvAC4Aup</td>\n",
       "      <td>0.936</td>\n",
       "      <td>0.3040</td>\n",
       "      <td>0.0278</td>\n",
       "      <td>0.792902</td>\n",
       "      <td>0.0829</td>\n",
       "      <td>1</td>\n",
       "    </tr>\n",
       "    <tr>\n",
       "      <th>347</th>\n",
       "      <td>Morethukochindhi</td>\n",
       "      <td>A.R. Rahman</td>\n",
       "      <td>1GDRl76dDH4Sjjfe0jfTbl</td>\n",
       "      <td>0.814</td>\n",
       "      <td>0.1820</td>\n",
       "      <td>0.1360</td>\n",
       "      <td>0.628296</td>\n",
       "      <td>0.0516</td>\n",
       "      <td>1</td>\n",
       "    </tr>\n",
       "    <tr>\n",
       "      <th>1413</th>\n",
       "      <td>Ellora Silpanni (From \"Billa\")</td>\n",
       "      <td>Various Artists</td>\n",
       "      <td>5kAD0TFTMCB2yONrvlfflX</td>\n",
       "      <td>0.792</td>\n",
       "      <td>0.0764</td>\n",
       "      <td>0.0919</td>\n",
       "      <td>0.780178</td>\n",
       "      <td>0.0464</td>\n",
       "      <td>1</td>\n",
       "    </tr>\n",
       "    <tr>\n",
       "      <th>1708</th>\n",
       "      <td>Athiloka Sundari</td>\n",
       "      <td>Thaman S</td>\n",
       "      <td>7agbQBEJYIaKJ8lGVdq1bv</td>\n",
       "      <td>0.673</td>\n",
       "      <td>0.3050</td>\n",
       "      <td>0.1200</td>\n",
       "      <td>0.769749</td>\n",
       "      <td>0.0541</td>\n",
       "      <td>1</td>\n",
       "    </tr>\n",
       "    <tr>\n",
       "      <th>327</th>\n",
       "      <td>Ee Galilo</td>\n",
       "      <td>Mickey J. Meyer</td>\n",
       "      <td>3QtsJquqIrQi6Nv2kSmQkW</td>\n",
       "      <td>0.633</td>\n",
       "      <td>0.2040</td>\n",
       "      <td>0.1360</td>\n",
       "      <td>0.669329</td>\n",
       "      <td>0.0444</td>\n",
       "      <td>1</td>\n",
       "    </tr>\n",
       "    <tr>\n",
       "      <th>534</th>\n",
       "      <td>Bombhaat - From \"LIE\"</td>\n",
       "      <td>Mani Sharma</td>\n",
       "      <td>3dpG9UvGYjcQX7SPiLYSW7</td>\n",
       "      <td>0.836</td>\n",
       "      <td>0.2350</td>\n",
       "      <td>0.1230</td>\n",
       "      <td>0.826008</td>\n",
       "      <td>0.1720</td>\n",
       "      <td>1</td>\n",
       "    </tr>\n",
       "    <tr>\n",
       "      <th>772</th>\n",
       "      <td>Nee Kannulu</td>\n",
       "      <td>Shekar Chandra</td>\n",
       "      <td>3KeskS3jpxHkk4IU5JUpTj</td>\n",
       "      <td>0.936</td>\n",
       "      <td>0.3040</td>\n",
       "      <td>0.0278</td>\n",
       "      <td>0.792902</td>\n",
       "      <td>0.0829</td>\n",
       "      <td>1</td>\n",
       "    </tr>\n",
       "    <tr>\n",
       "      <th>1586</th>\n",
       "      <td>Maruvaali (From Thoota)</td>\n",
       "      <td>Darbuka Siva</td>\n",
       "      <td>5zOZqyCysTCZ7CzVlZPZxu</td>\n",
       "      <td>0.549</td>\n",
       "      <td>0.0229</td>\n",
       "      <td>0.0863</td>\n",
       "      <td>0.789475</td>\n",
       "      <td>0.0351</td>\n",
       "      <td>1</td>\n",
       "    </tr>\n",
       "    <tr>\n",
       "      <th>294</th>\n",
       "      <td>Oh Baby (From \"Kalapuram\")</td>\n",
       "      <td>Sahiti Chaganti</td>\n",
       "      <td>0kkVWVEF6YP0cjCtxnqBSJ</td>\n",
       "      <td>0.780</td>\n",
       "      <td>0.1900</td>\n",
       "      <td>0.3480</td>\n",
       "      <td>0.822313</td>\n",
       "      <td>0.1410</td>\n",
       "      <td>1</td>\n",
       "    </tr>\n",
       "    <tr>\n",
       "      <th>836</th>\n",
       "      <td>Vandha Speedulo</td>\n",
       "      <td>Shekar Chandra</td>\n",
       "      <td>0SzXNzlFdhSQKo6WMpuhIo</td>\n",
       "      <td>0.767</td>\n",
       "      <td>0.1390</td>\n",
       "      <td>0.0482</td>\n",
       "      <td>0.801931</td>\n",
       "      <td>0.1850</td>\n",
       "      <td>1</td>\n",
       "    </tr>\n",
       "  </tbody>\n",
       "</table>\n",
       "</div>"
      ],
      "text/plain": [
       "                                name           artist                      id  \\\n",
       "673                       Young Yama  M. M. Keeravani  6IeCCRQ6YyuuhssuUCkYjD   \n",
       "1595                     Mudinepalli      A.R. Rahman  1PTzecwxty4LH1X663ngQp   \n",
       "1453                  Padham Vedichi   Joshua Sridhar  65JiHy0oKifLvpcW3U7pA9   \n",
       "1493                         Maayera   Harris Jayaraj  4ZI79kwi84DJcbiYFygJwW   \n",
       "388                     Poolaguwavaa   Sandeep Bowmik  6s3edis0BJf1e5lwg7rrKU   \n",
       "957                      Nee Kannulu   Shekar Chandra  1iyWzBAthsLghPEvAC4Aup   \n",
       "347                 Morethukochindhi      A.R. Rahman  1GDRl76dDH4Sjjfe0jfTbl   \n",
       "1413  Ellora Silpanni (From \"Billa\")  Various Artists  5kAD0TFTMCB2yONrvlfflX   \n",
       "1708                Athiloka Sundari         Thaman S  7agbQBEJYIaKJ8lGVdq1bv   \n",
       "327                        Ee Galilo  Mickey J. Meyer  3QtsJquqIrQi6Nv2kSmQkW   \n",
       "534            Bombhaat - From \"LIE\"      Mani Sharma  3dpG9UvGYjcQX7SPiLYSW7   \n",
       "772                      Nee Kannulu   Shekar Chandra  3KeskS3jpxHkk4IU5JUpTj   \n",
       "1586         Maruvaali (From Thoota)     Darbuka Siva  5zOZqyCysTCZ7CzVlZPZxu   \n",
       "294       Oh Baby (From \"Kalapuram\")  Sahiti Chaganti  0kkVWVEF6YP0cjCtxnqBSJ   \n",
       "836                  Vandha Speedulo   Shekar Chandra  0SzXNzlFdhSQKo6WMpuhIo   \n",
       "\n",
       "      danceability  acousticness  liveness  loudness  speechiness  label  \n",
       "673          0.793        0.3250    0.1110  0.695283       0.2820      1  \n",
       "1595         0.863        0.0591    0.0399  0.741262       0.1810      1  \n",
       "1453         0.779        0.0371    0.0948  0.657052       0.1000      1  \n",
       "1493         0.780        0.0218    0.1090  0.678387       0.0443      1  \n",
       "388          0.726        0.2590    0.1050  0.665246       0.3880      1  \n",
       "957          0.936        0.3040    0.0278  0.792902       0.0829      1  \n",
       "347          0.814        0.1820    0.1360  0.628296       0.0516      1  \n",
       "1413         0.792        0.0764    0.0919  0.780178       0.0464      1  \n",
       "1708         0.673        0.3050    0.1200  0.769749       0.0541      1  \n",
       "327          0.633        0.2040    0.1360  0.669329       0.0444      1  \n",
       "534          0.836        0.2350    0.1230  0.826008       0.1720      1  \n",
       "772          0.936        0.3040    0.0278  0.792902       0.0829      1  \n",
       "1586         0.549        0.0229    0.0863  0.789475       0.0351      1  \n",
       "294          0.780        0.1900    0.3480  0.822313       0.1410      1  \n",
       "836          0.767        0.1390    0.0482  0.801931       0.1850      1  "
      ]
     },
     "execution_count": 114,
     "metadata": {},
     "output_type": "execute_result"
    }
   ],
   "source": [
    "songs[songs['label']==1].head(15)"
   ]
  },
  {
   "cell_type": "code",
   "execution_count": 115,
   "metadata": {},
   "outputs": [
    {
     "data": {
      "text/html": [
       "<div>\n",
       "<style scoped>\n",
       "    .dataframe tbody tr th:only-of-type {\n",
       "        vertical-align: middle;\n",
       "    }\n",
       "\n",
       "    .dataframe tbody tr th {\n",
       "        vertical-align: top;\n",
       "    }\n",
       "\n",
       "    .dataframe thead th {\n",
       "        text-align: right;\n",
       "    }\n",
       "</style>\n",
       "<table border=\"1\" class=\"dataframe\">\n",
       "  <thead>\n",
       "    <tr style=\"text-align: right;\">\n",
       "      <th></th>\n",
       "      <th>name</th>\n",
       "      <th>artist</th>\n",
       "      <th>id</th>\n",
       "      <th>danceability</th>\n",
       "      <th>acousticness</th>\n",
       "      <th>liveness</th>\n",
       "      <th>loudness</th>\n",
       "      <th>speechiness</th>\n",
       "      <th>label</th>\n",
       "    </tr>\n",
       "  </thead>\n",
       "  <tbody>\n",
       "    <tr>\n",
       "      <th>748</th>\n",
       "      <td>Coma Coma Coma</td>\n",
       "      <td>Ghibran</td>\n",
       "      <td>0kdN0TNdHOhBtoVbNlne3l</td>\n",
       "      <td>0.750</td>\n",
       "      <td>0.346</td>\n",
       "      <td>0.0679</td>\n",
       "      <td>0.885187</td>\n",
       "      <td>0.0714</td>\n",
       "      <td>2</td>\n",
       "    </tr>\n",
       "    <tr>\n",
       "      <th>1319</th>\n",
       "      <td>Noo Noogu Meesaala</td>\n",
       "      <td>M. M. Keeravani</td>\n",
       "      <td>5diycofGoXrq2qUAyLo24e</td>\n",
       "      <td>0.829</td>\n",
       "      <td>0.476</td>\n",
       "      <td>0.1440</td>\n",
       "      <td>0.608361</td>\n",
       "      <td>0.1010</td>\n",
       "      <td>2</td>\n",
       "    </tr>\n",
       "    <tr>\n",
       "      <th>1876</th>\n",
       "      <td>Dhaare Ledha</td>\n",
       "      <td>Roshan Sebastian</td>\n",
       "      <td>5Dn1EYEwuY177bQmlZ61AU</td>\n",
       "      <td>0.605</td>\n",
       "      <td>0.510</td>\n",
       "      <td>0.2470</td>\n",
       "      <td>0.647218</td>\n",
       "      <td>0.0381</td>\n",
       "      <td>2</td>\n",
       "    </tr>\n",
       "    <tr>\n",
       "      <th>1129</th>\n",
       "      <td>Evalu Rammannaru Koduka</td>\n",
       "      <td>Charan Arjun</td>\n",
       "      <td>7fdM4vD648bsogCZgChK8r</td>\n",
       "      <td>0.483</td>\n",
       "      <td>0.505</td>\n",
       "      <td>0.1940</td>\n",
       "      <td>0.764266</td>\n",
       "      <td>0.0838</td>\n",
       "      <td>2</td>\n",
       "    </tr>\n",
       "    <tr>\n",
       "      <th>722</th>\n",
       "      <td>Bulle</td>\n",
       "      <td>G. V. Prakash</td>\n",
       "      <td>2AdjREVHdOoPXDzUHcbe4g</td>\n",
       "      <td>0.827</td>\n",
       "      <td>0.493</td>\n",
       "      <td>0.0263</td>\n",
       "      <td>0.729164</td>\n",
       "      <td>0.2360</td>\n",
       "      <td>2</td>\n",
       "    </tr>\n",
       "    <tr>\n",
       "      <th>1441</th>\n",
       "      <td>Marumallela Vaana</td>\n",
       "      <td>Mani Sharma</td>\n",
       "      <td>4ETtA1zu6ZcrXpRpeZ3hnv</td>\n",
       "      <td>0.770</td>\n",
       "      <td>0.590</td>\n",
       "      <td>0.1140</td>\n",
       "      <td>0.785631</td>\n",
       "      <td>0.0641</td>\n",
       "      <td>2</td>\n",
       "    </tr>\n",
       "    <tr>\n",
       "      <th>876</th>\n",
       "      <td>Malli Malli</td>\n",
       "      <td>Ilaiyaraaja</td>\n",
       "      <td>2JjMcwValUY2BbrfHABoSZ</td>\n",
       "      <td>0.620</td>\n",
       "      <td>0.623</td>\n",
       "      <td>0.3320</td>\n",
       "      <td>0.820346</td>\n",
       "      <td>0.0374</td>\n",
       "      <td>2</td>\n",
       "    </tr>\n",
       "    <tr>\n",
       "      <th>1904</th>\n",
       "      <td>O Hrudayama</td>\n",
       "      <td>Dinesh Rudra</td>\n",
       "      <td>6UW20Audwz7dFXS1PI5XSA</td>\n",
       "      <td>0.628</td>\n",
       "      <td>0.309</td>\n",
       "      <td>0.0988</td>\n",
       "      <td>0.770732</td>\n",
       "      <td>0.0312</td>\n",
       "      <td>2</td>\n",
       "    </tr>\n",
       "    <tr>\n",
       "      <th>1049</th>\n",
       "      <td>Superoo Superoo</td>\n",
       "      <td>Sunny Austin</td>\n",
       "      <td>3o7fGHmwGj1KHxsKif69PW</td>\n",
       "      <td>0.724</td>\n",
       "      <td>0.348</td>\n",
       "      <td>0.2260</td>\n",
       "      <td>0.763491</td>\n",
       "      <td>0.1900</td>\n",
       "      <td>2</td>\n",
       "    </tr>\n",
       "    <tr>\n",
       "      <th>548</th>\n",
       "      <td>Dhamki Maaro</td>\n",
       "      <td>Sai Karthik</td>\n",
       "      <td>2QFqRzgPrVDo5Hc3v6WHXi</td>\n",
       "      <td>0.860</td>\n",
       "      <td>0.466</td>\n",
       "      <td>0.1740</td>\n",
       "      <td>0.769361</td>\n",
       "      <td>0.0725</td>\n",
       "      <td>2</td>\n",
       "    </tr>\n",
       "    <tr>\n",
       "      <th>1155</th>\n",
       "      <td>Sharvani.. Rudrani.. Indrani</td>\n",
       "      <td>Devi Sri Prasad</td>\n",
       "      <td>7JZiaU4je7jDnQOUi3pAwe</td>\n",
       "      <td>0.598</td>\n",
       "      <td>0.620</td>\n",
       "      <td>0.0796</td>\n",
       "      <td>0.704699</td>\n",
       "      <td>0.1400</td>\n",
       "      <td>2</td>\n",
       "    </tr>\n",
       "    <tr>\n",
       "      <th>337</th>\n",
       "      <td>Undipova</td>\n",
       "      <td>Shekar Chandra</td>\n",
       "      <td>7d7BpHIZL65AJNi9FUFCme</td>\n",
       "      <td>0.599</td>\n",
       "      <td>0.487</td>\n",
       "      <td>0.2170</td>\n",
       "      <td>0.743348</td>\n",
       "      <td>0.0255</td>\n",
       "      <td>2</td>\n",
       "    </tr>\n",
       "    <tr>\n",
       "      <th>692</th>\n",
       "      <td>Ding Ding Ding</td>\n",
       "      <td>Anup Rubens</td>\n",
       "      <td>7tluAfobTzudF6vhR1x84N</td>\n",
       "      <td>0.910</td>\n",
       "      <td>0.389</td>\n",
       "      <td>0.0728</td>\n",
       "      <td>0.743169</td>\n",
       "      <td>0.0565</td>\n",
       "      <td>2</td>\n",
       "    </tr>\n",
       "    <tr>\n",
       "      <th>959</th>\n",
       "      <td>Paala Pitta</td>\n",
       "      <td>Devi Sri Prasad</td>\n",
       "      <td>7eONkQbNZvohVwbjbOwTEP</td>\n",
       "      <td>0.875</td>\n",
       "      <td>0.650</td>\n",
       "      <td>0.0657</td>\n",
       "      <td>0.779165</td>\n",
       "      <td>0.2020</td>\n",
       "      <td>2</td>\n",
       "    </tr>\n",
       "    <tr>\n",
       "      <th>1540</th>\n",
       "      <td>Ay Pilla</td>\n",
       "      <td>Pawan Ch</td>\n",
       "      <td>47A07dDkesXz4Xq0Amd9M3</td>\n",
       "      <td>0.503</td>\n",
       "      <td>0.350</td>\n",
       "      <td>0.0963</td>\n",
       "      <td>0.607289</td>\n",
       "      <td>0.0356</td>\n",
       "      <td>2</td>\n",
       "    </tr>\n",
       "  </tbody>\n",
       "</table>\n",
       "</div>"
      ],
      "text/plain": [
       "                              name            artist                      id  \\\n",
       "748                 Coma Coma Coma           Ghibran  0kdN0TNdHOhBtoVbNlne3l   \n",
       "1319            Noo Noogu Meesaala   M. M. Keeravani  5diycofGoXrq2qUAyLo24e   \n",
       "1876                  Dhaare Ledha  Roshan Sebastian  5Dn1EYEwuY177bQmlZ61AU   \n",
       "1129       Evalu Rammannaru Koduka      Charan Arjun  7fdM4vD648bsogCZgChK8r   \n",
       "722                          Bulle     G. V. Prakash  2AdjREVHdOoPXDzUHcbe4g   \n",
       "1441             Marumallela Vaana       Mani Sharma  4ETtA1zu6ZcrXpRpeZ3hnv   \n",
       "876                    Malli Malli       Ilaiyaraaja  2JjMcwValUY2BbrfHABoSZ   \n",
       "1904                   O Hrudayama      Dinesh Rudra  6UW20Audwz7dFXS1PI5XSA   \n",
       "1049               Superoo Superoo      Sunny Austin  3o7fGHmwGj1KHxsKif69PW   \n",
       "548                   Dhamki Maaro       Sai Karthik  2QFqRzgPrVDo5Hc3v6WHXi   \n",
       "1155  Sharvani.. Rudrani.. Indrani   Devi Sri Prasad  7JZiaU4je7jDnQOUi3pAwe   \n",
       "337                       Undipova    Shekar Chandra  7d7BpHIZL65AJNi9FUFCme   \n",
       "692                 Ding Ding Ding       Anup Rubens  7tluAfobTzudF6vhR1x84N   \n",
       "959                    Paala Pitta   Devi Sri Prasad  7eONkQbNZvohVwbjbOwTEP   \n",
       "1540                      Ay Pilla          Pawan Ch  47A07dDkesXz4Xq0Amd9M3   \n",
       "\n",
       "      danceability  acousticness  liveness  loudness  speechiness  label  \n",
       "748          0.750         0.346    0.0679  0.885187       0.0714      2  \n",
       "1319         0.829         0.476    0.1440  0.608361       0.1010      2  \n",
       "1876         0.605         0.510    0.2470  0.647218       0.0381      2  \n",
       "1129         0.483         0.505    0.1940  0.764266       0.0838      2  \n",
       "722          0.827         0.493    0.0263  0.729164       0.2360      2  \n",
       "1441         0.770         0.590    0.1140  0.785631       0.0641      2  \n",
       "876          0.620         0.623    0.3320  0.820346       0.0374      2  \n",
       "1904         0.628         0.309    0.0988  0.770732       0.0312      2  \n",
       "1049         0.724         0.348    0.2260  0.763491       0.1900      2  \n",
       "548          0.860         0.466    0.1740  0.769361       0.0725      2  \n",
       "1155         0.598         0.620    0.0796  0.704699       0.1400      2  \n",
       "337          0.599         0.487    0.2170  0.743348       0.0255      2  \n",
       "692          0.910         0.389    0.0728  0.743169       0.0565      2  \n",
       "959          0.875         0.650    0.0657  0.779165       0.2020      2  \n",
       "1540         0.503         0.350    0.0963  0.607289       0.0356      2  "
      ]
     },
     "execution_count": 115,
     "metadata": {},
     "output_type": "execute_result"
    }
   ],
   "source": [
    "songs[songs['label']==2].head(15)"
   ]
  },
  {
   "cell_type": "code",
   "execution_count": 116,
   "metadata": {},
   "outputs": [
    {
     "data": {
      "text/html": [
       "<div>\n",
       "<style scoped>\n",
       "    .dataframe tbody tr th:only-of-type {\n",
       "        vertical-align: middle;\n",
       "    }\n",
       "\n",
       "    .dataframe tbody tr th {\n",
       "        vertical-align: top;\n",
       "    }\n",
       "\n",
       "    .dataframe thead th {\n",
       "        text-align: right;\n",
       "    }\n",
       "</style>\n",
       "<table border=\"1\" class=\"dataframe\">\n",
       "  <thead>\n",
       "    <tr style=\"text-align: right;\">\n",
       "      <th></th>\n",
       "      <th>name</th>\n",
       "      <th>artist</th>\n",
       "      <th>id</th>\n",
       "      <th>danceability</th>\n",
       "      <th>acousticness</th>\n",
       "      <th>liveness</th>\n",
       "      <th>loudness</th>\n",
       "      <th>speechiness</th>\n",
       "      <th>label</th>\n",
       "    </tr>\n",
       "  </thead>\n",
       "  <tbody>\n",
       "    <tr>\n",
       "      <th>855</th>\n",
       "      <td>Toofan</td>\n",
       "      <td>Ravi Basrur</td>\n",
       "      <td>0ztbRzwQwzF53IPjoxZWhC</td>\n",
       "      <td>0.692</td>\n",
       "      <td>0.345</td>\n",
       "      <td>0.590</td>\n",
       "      <td>0.728091</td>\n",
       "      <td>0.0671</td>\n",
       "      <td>3</td>\n",
       "    </tr>\n",
       "    <tr>\n",
       "      <th>418</th>\n",
       "      <td>Aaresukoboyee (From \"Adavi Ramudu\")</td>\n",
       "      <td>S. P. Balasubrahmanyam</td>\n",
       "      <td>3kKhlaxlib4Ey9Nw7QUBhs</td>\n",
       "      <td>0.496</td>\n",
       "      <td>0.946</td>\n",
       "      <td>0.666</td>\n",
       "      <td>0.671623</td>\n",
       "      <td>0.0440</td>\n",
       "      <td>3</td>\n",
       "    </tr>\n",
       "    <tr>\n",
       "      <th>1096</th>\n",
       "      <td>Thalli Nee Paadaalu</td>\n",
       "      <td>Thirupathi Matla</td>\n",
       "      <td>3r3NLTsFyGjoSoV1vFKO3U</td>\n",
       "      <td>0.723</td>\n",
       "      <td>0.593</td>\n",
       "      <td>0.494</td>\n",
       "      <td>0.751959</td>\n",
       "      <td>0.0416</td>\n",
       "      <td>3</td>\n",
       "    </tr>\n",
       "    <tr>\n",
       "      <th>763</th>\n",
       "      <td>Box Badhalai Poyi</td>\n",
       "      <td>Devi Sri Prasad</td>\n",
       "      <td>2tXmqzOJHKDsIWJ2y2ntAe</td>\n",
       "      <td>0.832</td>\n",
       "      <td>0.226</td>\n",
       "      <td>0.639</td>\n",
       "      <td>0.899014</td>\n",
       "      <td>0.1790</td>\n",
       "      <td>3</td>\n",
       "    </tr>\n",
       "    <tr>\n",
       "      <th>1098</th>\n",
       "      <td>Endikondalu Yeletoda</td>\n",
       "      <td>Mangli</td>\n",
       "      <td>1C2DY5M6tNr7ICvcqA7hW0</td>\n",
       "      <td>0.701</td>\n",
       "      <td>0.297</td>\n",
       "      <td>0.549</td>\n",
       "      <td>0.851843</td>\n",
       "      <td>0.0826</td>\n",
       "      <td>3</td>\n",
       "    </tr>\n",
       "    <tr>\n",
       "      <th>108</th>\n",
       "      <td>Jalakaalaatalalo</td>\n",
       "      <td>Pendyala Nageswara Rao</td>\n",
       "      <td>3S0BWmZ05XQpsUlKl4Seo7</td>\n",
       "      <td>0.471</td>\n",
       "      <td>0.732</td>\n",
       "      <td>0.614</td>\n",
       "      <td>0.861676</td>\n",
       "      <td>0.0417</td>\n",
       "      <td>3</td>\n",
       "    </tr>\n",
       "    <tr>\n",
       "      <th>29</th>\n",
       "      <td>Anuragame Mantramga</td>\n",
       "      <td>S.A. Rajkumar</td>\n",
       "      <td>27sLbeSvAZg72EHF6r1WmN</td>\n",
       "      <td>0.716</td>\n",
       "      <td>0.528</td>\n",
       "      <td>0.461</td>\n",
       "      <td>0.921601</td>\n",
       "      <td>0.0522</td>\n",
       "      <td>3</td>\n",
       "    </tr>\n",
       "    <tr>\n",
       "      <th>72</th>\n",
       "      <td>Vundhile Manchi Kaalam</td>\n",
       "      <td>Pendyala Nageswara Rao</td>\n",
       "      <td>1Z4DNJxTVSu1ZT1dUnRX2N</td>\n",
       "      <td>0.344</td>\n",
       "      <td>0.762</td>\n",
       "      <td>0.714</td>\n",
       "      <td>0.657469</td>\n",
       "      <td>0.1790</td>\n",
       "      <td>3</td>\n",
       "    </tr>\n",
       "    <tr>\n",
       "      <th>1176</th>\n",
       "      <td>Yavon Kanda Ninna</td>\n",
       "      <td>Hamsa Lekha</td>\n",
       "      <td>0vwULlsFnjXXNEROvQK6qd</td>\n",
       "      <td>0.715</td>\n",
       "      <td>0.661</td>\n",
       "      <td>0.371</td>\n",
       "      <td>0.608451</td>\n",
       "      <td>0.1510</td>\n",
       "      <td>3</td>\n",
       "    </tr>\n",
       "    <tr>\n",
       "      <th>78</th>\n",
       "      <td>Chelikaadu Ninne</td>\n",
       "      <td>S. Rajeswara Rao</td>\n",
       "      <td>73X8xeKmnmKuopfEV7KDtB</td>\n",
       "      <td>0.530</td>\n",
       "      <td>0.667</td>\n",
       "      <td>0.413</td>\n",
       "      <td>0.653208</td>\n",
       "      <td>0.0613</td>\n",
       "      <td>3</td>\n",
       "    </tr>\n",
       "    <tr>\n",
       "      <th>1030</th>\n",
       "      <td>Patakha</td>\n",
       "      <td>D'strucT</td>\n",
       "      <td>37pjYA2osmqfLQhnHq0Y4f</td>\n",
       "      <td>0.387</td>\n",
       "      <td>0.475</td>\n",
       "      <td>0.359</td>\n",
       "      <td>0.780178</td>\n",
       "      <td>0.4840</td>\n",
       "      <td>3</td>\n",
       "    </tr>\n",
       "    <tr>\n",
       "      <th>435</th>\n",
       "      <td>Bhale Bhale Mogaadivoy (From \"Maro Charithra\")</td>\n",
       "      <td>S. P. Balasubrahmanyam</td>\n",
       "      <td>42443zwgnpvTmXFHIP5foz</td>\n",
       "      <td>0.376</td>\n",
       "      <td>0.944</td>\n",
       "      <td>0.942</td>\n",
       "      <td>0.841324</td>\n",
       "      <td>0.0743</td>\n",
       "      <td>3</td>\n",
       "    </tr>\n",
       "    <tr>\n",
       "      <th>15</th>\n",
       "      <td>Yamunna Thatilo</td>\n",
       "      <td>Ilaiyaraaja</td>\n",
       "      <td>26mVxTffc7huty5KXGaL5T</td>\n",
       "      <td>0.614</td>\n",
       "      <td>0.638</td>\n",
       "      <td>0.537</td>\n",
       "      <td>0.736405</td>\n",
       "      <td>0.0396</td>\n",
       "      <td>3</td>\n",
       "    </tr>\n",
       "    <tr>\n",
       "      <th>932</th>\n",
       "      <td>Chema Chekka</td>\n",
       "      <td>Ilaiyaraaja</td>\n",
       "      <td>5LF269t4OL9eFFcxAIs63z</td>\n",
       "      <td>0.558</td>\n",
       "      <td>0.739</td>\n",
       "      <td>0.657</td>\n",
       "      <td>0.832057</td>\n",
       "      <td>0.0515</td>\n",
       "      <td>3</td>\n",
       "    </tr>\n",
       "    <tr>\n",
       "      <th>1128</th>\n",
       "      <td>Sri Rama Namamu</td>\n",
       "      <td>Chirla Ramu</td>\n",
       "      <td>1nAkyzJqup8wLk4n1PHRsG</td>\n",
       "      <td>0.498</td>\n",
       "      <td>0.631</td>\n",
       "      <td>0.324</td>\n",
       "      <td>0.860842</td>\n",
       "      <td>0.3140</td>\n",
       "      <td>3</td>\n",
       "    </tr>\n",
       "  </tbody>\n",
       "</table>\n",
       "</div>"
      ],
      "text/plain": [
       "                                                name                  artist  \\\n",
       "855                                           Toofan             Ravi Basrur   \n",
       "418              Aaresukoboyee (From \"Adavi Ramudu\")  S. P. Balasubrahmanyam   \n",
       "1096                             Thalli Nee Paadaalu        Thirupathi Matla   \n",
       "763                                Box Badhalai Poyi         Devi Sri Prasad   \n",
       "1098                            Endikondalu Yeletoda                  Mangli   \n",
       "108                                 Jalakaalaatalalo  Pendyala Nageswara Rao   \n",
       "29                               Anuragame Mantramga           S.A. Rajkumar   \n",
       "72                            Vundhile Manchi Kaalam  Pendyala Nageswara Rao   \n",
       "1176                               Yavon Kanda Ninna             Hamsa Lekha   \n",
       "78                                  Chelikaadu Ninne        S. Rajeswara Rao   \n",
       "1030                                         Patakha                D'strucT   \n",
       "435   Bhale Bhale Mogaadivoy (From \"Maro Charithra\")  S. P. Balasubrahmanyam   \n",
       "15                                   Yamunna Thatilo             Ilaiyaraaja   \n",
       "932                                     Chema Chekka             Ilaiyaraaja   \n",
       "1128                                 Sri Rama Namamu             Chirla Ramu   \n",
       "\n",
       "                          id  danceability  acousticness  liveness  loudness  \\\n",
       "855   0ztbRzwQwzF53IPjoxZWhC         0.692         0.345     0.590  0.728091   \n",
       "418   3kKhlaxlib4Ey9Nw7QUBhs         0.496         0.946     0.666  0.671623   \n",
       "1096  3r3NLTsFyGjoSoV1vFKO3U         0.723         0.593     0.494  0.751959   \n",
       "763   2tXmqzOJHKDsIWJ2y2ntAe         0.832         0.226     0.639  0.899014   \n",
       "1098  1C2DY5M6tNr7ICvcqA7hW0         0.701         0.297     0.549  0.851843   \n",
       "108   3S0BWmZ05XQpsUlKl4Seo7         0.471         0.732     0.614  0.861676   \n",
       "29    27sLbeSvAZg72EHF6r1WmN         0.716         0.528     0.461  0.921601   \n",
       "72    1Z4DNJxTVSu1ZT1dUnRX2N         0.344         0.762     0.714  0.657469   \n",
       "1176  0vwULlsFnjXXNEROvQK6qd         0.715         0.661     0.371  0.608451   \n",
       "78    73X8xeKmnmKuopfEV7KDtB         0.530         0.667     0.413  0.653208   \n",
       "1030  37pjYA2osmqfLQhnHq0Y4f         0.387         0.475     0.359  0.780178   \n",
       "435   42443zwgnpvTmXFHIP5foz         0.376         0.944     0.942  0.841324   \n",
       "15    26mVxTffc7huty5KXGaL5T         0.614         0.638     0.537  0.736405   \n",
       "932   5LF269t4OL9eFFcxAIs63z         0.558         0.739     0.657  0.832057   \n",
       "1128  1nAkyzJqup8wLk4n1PHRsG         0.498         0.631     0.324  0.860842   \n",
       "\n",
       "      speechiness  label  \n",
       "855        0.0671      3  \n",
       "418        0.0440      3  \n",
       "1096       0.0416      3  \n",
       "763        0.1790      3  \n",
       "1098       0.0826      3  \n",
       "108        0.0417      3  \n",
       "29         0.0522      3  \n",
       "72         0.1790      3  \n",
       "1176       0.1510      3  \n",
       "78         0.0613      3  \n",
       "1030       0.4840      3  \n",
       "435        0.0743      3  \n",
       "15         0.0396      3  \n",
       "932        0.0515      3  \n",
       "1128       0.3140      3  "
      ]
     },
     "execution_count": 116,
     "metadata": {},
     "output_type": "execute_result"
    }
   ],
   "source": [
    "songs[songs['label']==3].head(15)"
   ]
  },
  {
   "cell_type": "code",
   "execution_count": 117,
   "metadata": {},
   "outputs": [
    {
     "data": {
      "text/plain": [
       "array([[<AxesSubplot:title={'center':'danceability'}>,\n",
       "        <AxesSubplot:title={'center':'acousticness'}>],\n",
       "       [<AxesSubplot:title={'center':'liveness'}>,\n",
       "        <AxesSubplot:title={'center':'loudness'}>],\n",
       "       [<AxesSubplot:title={'center':'speechiness'}>,\n",
       "        <AxesSubplot:title={'center':'label'}>]], dtype=object)"
      ]
     },
     "execution_count": 117,
     "metadata": {},
     "output_type": "execute_result"
    },
    {
     "data": {
      "image/png": "[encoded data removed]",
      "text/plain": [
       "<Figure size 1440x1080 with 6 Axes>"
      ]
     },
     "metadata": {},
     "output_type": "display_data"
    }
   ],
   "source": [
    "songs[songs['label']==2].hist(figsize=(20,15))"
   ]
  },
  {
   "cell_type": "code",
   "execution_count": 118,
   "metadata": {},
   "outputs": [
    {
     "name": "stderr",
     "output_type": "stream",
     "text": [
      "C:\\Users\\somas\\AppData\\Local\\Temp\\ipykernel_15272\\785798041.py:1: FutureWarning: Dropping of nuisance columns in DataFrame reductions (with 'numeric_only=None') is deprecated; in a future version this will raise TypeError.  Select only valid columns before calling the reduction.\n",
      "  songs[songs['label']==3].mean()\n"
     ]
    },
    {
     "data": {
      "text/plain": [
       "danceability    0.611881\n",
       "acousticness    0.602699\n",
       "liveness        0.600483\n",
       "loudness        0.761704\n",
       "speechiness     0.127784\n",
       "label           3.000000\n",
       "dtype: float64"
      ]
     },
     "execution_count": 118,
     "metadata": {},
     "output_type": "execute_result"
    }
   ],
   "source": [
    "songs[songs['label']==3].mean()"
   ]
  },
  {
   "cell_type": "code",
   "execution_count": 119,
   "metadata": {},
   "outputs": [
    {
     "data": {
      "text/html": [
       "<style>#sk-container-id-10 {color: black;background-color: white;}#sk-container-id-10 pre{padding: 0;}#sk-container-id-10 div.sk-toggleable {background-color: white;}#sk-container-id-10 label.sk-toggleable__label {cursor: pointer;display: block;width: 100%;margin-bottom: 0;padding: 0.3em;box-sizing: border-box;text-align: center;}#sk-container-id-10 label.sk-toggleable__label-arrow:before {content: \"▸\";float: left;margin-right: 0.25em;color: #696969;}#sk-container-id-10 label.sk-toggleable__label-arrow:hover:before {color: black;}#sk-container-id-10 div.sk-estimator:hover label.sk-toggleable__label-arrow:before {color: black;}#sk-container-id-10 div.sk-toggleable__content {max-height: 0;max-width: 0;overflow: hidden;text-align: left;background-color: #f0f8ff;}#sk-container-id-10 div.sk-toggleable__content pre {margin: 0.2em;color: black;border-radius: 0.25em;background-color: #f0f8ff;}#sk-container-id-10 input.sk-toggleable__control:checked~div.sk-toggleable__content {max-height: 200px;max-width: 100%;overflow: auto;}#sk-container-id-10 input.sk-toggleable__control:checked~label.sk-toggleable__label-arrow:before {content: \"▾\";}#sk-container-id-10 div.sk-estimator input.sk-toggleable__control:checked~label.sk-toggleable__label {background-color: #d4ebff;}#sk-container-id-10 div.sk-label input.sk-toggleable__control:checked~label.sk-toggleable__label {background-color: #d4ebff;}#sk-container-id-10 input.sk-hidden--visually {border: 0;clip: rect(1px 1px 1px 1px);clip: rect(1px, 1px, 1px, 1px);height: 1px;margin: -1px;overflow: hidden;padding: 0;position: absolute;width: 1px;}#sk-container-id-10 div.sk-estimator {font-family: monospace;background-color: #f0f8ff;border: 1px dotted black;border-radius: 0.25em;box-sizing: border-box;margin-bottom: 0.5em;}#sk-container-id-10 div.sk-estimator:hover {background-color: #d4ebff;}#sk-container-id-10 div.sk-parallel-item::after {content: \"\";width: 100%;border-bottom: 1px solid gray;flex-grow: 1;}#sk-container-id-10 div.sk-label:hover label.sk-toggleable__label {background-color: #d4ebff;}#sk-container-id-10 div.sk-serial::before {content: \"\";position: absolute;border-left: 1px solid gray;box-sizing: border-box;top: 0;bottom: 0;left: 50%;z-index: 0;}#sk-container-id-10 div.sk-serial {display: flex;flex-direction: column;align-items: center;background-color: white;padding-right: 0.2em;padding-left: 0.2em;position: relative;}#sk-container-id-10 div.sk-item {position: relative;z-index: 1;}#sk-container-id-10 div.sk-parallel {display: flex;align-items: stretch;justify-content: center;background-color: white;position: relative;}#sk-container-id-10 div.sk-item::before, #sk-container-id-10 div.sk-parallel-item::before {content: \"\";position: absolute;border-left: 1px solid gray;box-sizing: border-box;top: 0;bottom: 0;left: 50%;z-index: -1;}#sk-container-id-10 div.sk-parallel-item {display: flex;flex-direction: column;z-index: 1;position: relative;background-color: white;}#sk-container-id-10 div.sk-parallel-item:first-child::after {align-self: flex-end;width: 50%;}#sk-container-id-10 div.sk-parallel-item:last-child::after {align-self: flex-start;width: 50%;}#sk-container-id-10 div.sk-parallel-item:only-child::after {width: 0;}#sk-container-id-10 div.sk-dashed-wrapped {border: 1px dashed gray;margin: 0 0.4em 0.5em 0.4em;box-sizing: border-box;padding-bottom: 0.4em;background-color: white;}#sk-container-id-10 div.sk-label label {font-family: monospace;font-weight: bold;display: inline-block;line-height: 1.2em;}#sk-container-id-10 div.sk-label-container {text-align: center;}#sk-container-id-10 div.sk-container {/* jupyter's `normalize.less` sets `[hidden] { display: none; }` but bootstrap.min.css set `[hidden] { display: none !important; }` so we also need the `!important` here to be able to override the default hidden behavior on the sphinx rendered scikit-learn.org. See: https://github.com/scikit-learn/scikit-learn/issues/21755 */display: inline-block !important;position: relative;}#sk-container-id-10 div.sk-text-repr-fallback {display: none;}</style><div id=\"sk-container-id-10\" class=\"sk-top-container\"><div class=\"sk-text-repr-fallback\"><pre>RandomForestClassifier()</pre><b>In a Jupyter environment, please rerun this cell to show the HTML representation or trust the notebook. <br />On GitHub, the HTML representation is unable to render, please try loading this page with nbviewer.org.</b></div><div class=\"sk-container\" hidden><div class=\"sk-item\"><div class=\"sk-estimator sk-toggleable\"><input class=\"sk-toggleable__control sk-hidden--visually\" id=\"sk-estimator-id-10\" type=\"checkbox\" checked><label for=\"sk-estimator-id-10\" class=\"sk-toggleable__label sk-toggleable__label-arrow\">RandomForestClassifier</label><div class=\"sk-toggleable__content\"><pre>RandomForestClassifier()</pre></div></div></div></div></div>"
      ],
      "text/plain": [
       "RandomForestClassifier()"
      ]
     },
     "execution_count": 119,
     "metadata": {},
     "output_type": "execute_result"
    }
   ],
   "source": [
    "from sklearn.ensemble import RandomForestClassifier\n",
    "from sklearn.model_selection import train_test_split\n",
    "from sklearn.model_selection import cross_val_score\n",
    "from sklearn.metrics import classification_report, confusion_matrix\n",
    "from sklearn.utils.multiclass import unique_labels\n",
    "\n",
    "X = songs_features\n",
    "y = y_kmeans\n",
    "\n",
    "X_train, X_test, y_train, y_test = train_test_split(X, y, test_size=0.33)\n",
    "\n",
    "rfc = RandomForestClassifier(n_estimators=100,criterion='gini')\n",
    "rfc.fit(X_train,y_train)"
   ]
  },
  {
   "cell_type": "code",
   "execution_count": 120,
   "metadata": {},
   "outputs": [],
   "source": [
    "# Predicting the Test set results\n",
    "y_pred = rfc.predict(X_test)\n",
    "    "
   ]
  },
  {
   "cell_type": "code",
   "execution_count": 121,
   "metadata": {},
   "outputs": [],
   "source": [
    "\n",
    "\n",
    "def plot_confusion_matrix(y_true, y_pred, classes,\n",
    "                          normalize=False,\n",
    "                          title=None,\n",
    "                          cmap=plt.cm.Blues):\n",
    "    \"\"\"\n",
    "    This function prints and plots the confusion matrix.\n",
    "    Normalization can be applied by setting `normalize=True`.\n",
    "    \"\"\"\n",
    "    if not title:\n",
    "        if normalize:\n",
    "            title = 'Normalized confusion matrix'\n",
    "        else:\n",
    "            title = 'Confusion matrix'\n",
    "\n",
    "    # Compute confusion matrix\n",
    "    cm = confusion_matrix(y_true, y_pred)\n",
    "    # Only use the labels that appear in the data\n",
    "    if normalize:\n",
    "        cm = cm.astype('float') / cm.sum(axis=1)[:, np.newaxis]\n",
    "        print(\"Normalized confusion matrix\")\n",
    "    else:\n",
    "        print('Confusion matrix, without normalization')\n",
    "\n",
    "    print(cm)\n",
    "\n",
    "    fig, ax = plt.subplots()\n",
    "    im = ax.imshow(cm, interpolation='nearest', cmap=cmap)\n",
    "    ax.figure.colorbar(im, ax=ax)\n",
    "    # We want to show all ticks...\n",
    "    ax.set(xticks=np.arange(cm.shape[1]),\n",
    "           yticks=np.arange(cm.shape[0]),\n",
    "           # ... and label them with the respective list entries\n",
    "           xticklabels=classes, yticklabels=classes,\n",
    "           title=title,\n",
    "           ylabel='True label',\n",
    "           xlabel='Predicted label')\n",
    "\n",
    "    # Rotate the tick labels and set their alignment.\n",
    "    plt.setp(ax.get_xticklabels(), rotation=45, ha=\"right\",\n",
    "             rotation_mode=\"anchor\")\n",
    "\n",
    "    # Loop over data dimensions and create text annotations.\n",
    "    fmt = '.2f' if normalize else 'd'\n",
    "    thresh = cm.max() / 2.\n",
    "    for i in range(cm.shape[0]):\n",
    "        for j in range(cm.shape[1]):\n",
    "            ax.text(j, i, format(cm[i, j], fmt),\n",
    "                    ha=\"center\", va=\"center\",\n",
    "                    color=\"white\" if cm[i, j] > thresh else \"black\")\n",
    "    fig.tight_layout()\n",
    "    return ax\n"
   ]
  },
  {
   "cell_type": "code",
   "execution_count": 122,
   "metadata": {},
   "outputs": [
    {
     "name": "stdout",
     "output_type": "stream",
     "text": [
      "Confusion matrix, without normalization\n",
      "[[157   0   4   3]\n",
      " [  0 245   0   2]\n",
      " [  4   4 171   1]\n",
      " [  2   1   0  38]]\n"
     ]
    },
    {
     "data": {
      "text/plain": [
       "<AxesSubplot:title={'center':'Confusion matrix for Random Forest'}, xlabel='Predicted label', ylabel='True label'>"
      ]
     },
     "execution_count": 122,
     "metadata": {},
     "output_type": "execute_result"
    },
    {
     "data": {
      "image/png": "[encoded data removed]",
      "text/plain": [
       "<Figure size 432x288 with 2 Axes>"
      ]
     },
     "metadata": {},
     "output_type": "display_data"
    }
   ],
   "source": [
    "# Confusion matrix\n",
    "definitions = ['Chill','Energetic','Cheerful','Romantic']\n",
    "# reversefactor = dict(zip(range(4),definitions))\n",
    "# actual = np.vectorize(reversefactor.get)(y_test)\n",
    "# pred = np.vectorize(reversefactor.get)(y_pred)\n",
    "# print(pd.crosstab(actual, pred, rownames=['Actual Mood'], colnames=['Predicted Mood']))\n",
    "\n",
    "plot_confusion_matrix(y_test, y_pred, classes=definitions,\n",
    "                      title='Confusion matrix for Random Forest')"
   ]
  },
  {
   "cell_type": "code",
   "execution_count": 123,
   "metadata": {},
   "outputs": [
    {
     "data": {
      "text/plain": [
       "[('danceability', 0.11641026207834908),\n",
       " ('acousticness', 0.6638324846854723),\n",
       " ('liveness', 0.15521953397504126),\n",
       " ('loudness', 0.038698103480679244),\n",
       " ('speechiness', 0.025839615780458153)]"
      ]
     },
     "execution_count": 123,
     "metadata": {},
     "output_type": "execute_result"
    }
   ],
   "source": [
    "# View a list of the features and their importance scores\n",
    "features = songs_features.columns\n",
    "list(zip(songs_features[features], rfc.feature_importances_))"
   ]
  },
  {
   "cell_type": "code",
   "execution_count": 124,
   "metadata": {},
   "outputs": [
    {
     "data": {
      "text/html": [
       "<style>#sk-container-id-11 {color: black;background-color: white;}#sk-container-id-11 pre{padding: 0;}#sk-container-id-11 div.sk-toggleable {background-color: white;}#sk-container-id-11 label.sk-toggleable__label {cursor: pointer;display: block;width: 100%;margin-bottom: 0;padding: 0.3em;box-sizing: border-box;text-align: center;}#sk-container-id-11 label.sk-toggleable__label-arrow:before {content: \"▸\";float: left;margin-right: 0.25em;color: #696969;}#sk-container-id-11 label.sk-toggleable__label-arrow:hover:before {color: black;}#sk-container-id-11 div.sk-estimator:hover label.sk-toggleable__label-arrow:before {color: black;}#sk-container-id-11 div.sk-toggleable__content {max-height: 0;max-width: 0;overflow: hidden;text-align: left;background-color: #f0f8ff;}#sk-container-id-11 div.sk-toggleable__content pre {margin: 0.2em;color: black;border-radius: 0.25em;background-color: #f0f8ff;}#sk-container-id-11 input.sk-toggleable__control:checked~div.sk-toggleable__content {max-height: 200px;max-width: 100%;overflow: auto;}#sk-container-id-11 input.sk-toggleable__control:checked~label.sk-toggleable__label-arrow:before {content: \"▾\";}#sk-container-id-11 div.sk-estimator input.sk-toggleable__control:checked~label.sk-toggleable__label {background-color: #d4ebff;}#sk-container-id-11 div.sk-label input.sk-toggleable__control:checked~label.sk-toggleable__label {background-color: #d4ebff;}#sk-container-id-11 input.sk-hidden--visually {border: 0;clip: rect(1px 1px 1px 1px);clip: rect(1px, 1px, 1px, 1px);height: 1px;margin: -1px;overflow: hidden;padding: 0;position: absolute;width: 1px;}#sk-container-id-11 div.sk-estimator {font-family: monospace;background-color: #f0f8ff;border: 1px dotted black;border-radius: 0.25em;box-sizing: border-box;margin-bottom: 0.5em;}#sk-container-id-11 div.sk-estimator:hover {background-color: #d4ebff;}#sk-container-id-11 div.sk-parallel-item::after {content: \"\";width: 100%;border-bottom: 1px solid gray;flex-grow: 1;}#sk-container-id-11 div.sk-label:hover label.sk-toggleable__label {background-color: #d4ebff;}#sk-container-id-11 div.sk-serial::before {content: \"\";position: absolute;border-left: 1px solid gray;box-sizing: border-box;top: 0;bottom: 0;left: 50%;z-index: 0;}#sk-container-id-11 div.sk-serial {display: flex;flex-direction: column;align-items: center;background-color: white;padding-right: 0.2em;padding-left: 0.2em;position: relative;}#sk-container-id-11 div.sk-item {position: relative;z-index: 1;}#sk-container-id-11 div.sk-parallel {display: flex;align-items: stretch;justify-content: center;background-color: white;position: relative;}#sk-container-id-11 div.sk-item::before, #sk-container-id-11 div.sk-parallel-item::before {content: \"\";position: absolute;border-left: 1px solid gray;box-sizing: border-box;top: 0;bottom: 0;left: 50%;z-index: -1;}#sk-container-id-11 div.sk-parallel-item {display: flex;flex-direction: column;z-index: 1;position: relative;background-color: white;}#sk-container-id-11 div.sk-parallel-item:first-child::after {align-self: flex-end;width: 50%;}#sk-container-id-11 div.sk-parallel-item:last-child::after {align-self: flex-start;width: 50%;}#sk-container-id-11 div.sk-parallel-item:only-child::after {width: 0;}#sk-container-id-11 div.sk-dashed-wrapped {border: 1px dashed gray;margin: 0 0.4em 0.5em 0.4em;box-sizing: border-box;padding-bottom: 0.4em;background-color: white;}#sk-container-id-11 div.sk-label label {font-family: monospace;font-weight: bold;display: inline-block;line-height: 1.2em;}#sk-container-id-11 div.sk-label-container {text-align: center;}#sk-container-id-11 div.sk-container {/* jupyter's `normalize.less` sets `[hidden] { display: none; }` but bootstrap.min.css set `[hidden] { display: none !important; }` so we also need the `!important` here to be able to override the default hidden behavior on the sphinx rendered scikit-learn.org. See: https://github.com/scikit-learn/scikit-learn/issues/21755 */display: inline-block !important;position: relative;}#sk-container-id-11 div.sk-text-repr-fallback {display: none;}</style><div id=\"sk-container-id-11\" class=\"sk-top-container\"><div class=\"sk-text-repr-fallback\"><pre>KNeighborsClassifier(n_neighbors=3)</pre><b>In a Jupyter environment, please rerun this cell to show the HTML representation or trust the notebook. <br />On GitHub, the HTML representation is unable to render, please try loading this page with nbviewer.org.</b></div><div class=\"sk-container\" hidden><div class=\"sk-item\"><div class=\"sk-estimator sk-toggleable\"><input class=\"sk-toggleable__control sk-hidden--visually\" id=\"sk-estimator-id-11\" type=\"checkbox\" checked><label for=\"sk-estimator-id-11\" class=\"sk-toggleable__label sk-toggleable__label-arrow\">KNeighborsClassifier</label><div class=\"sk-toggleable__content\"><pre>KNeighborsClassifier(n_neighbors=3)</pre></div></div></div></div></div>"
      ],
      "text/plain": [
       "KNeighborsClassifier(n_neighbors=3)"
      ]
     },
     "execution_count": 124,
     "metadata": {},
     "output_type": "execute_result"
    }
   ],
   "source": [
    "from sklearn.neighbors import KNeighborsClassifier\n",
    "\n",
    "knn = KNeighborsClassifier(n_neighbors=3)\n",
    "# Train the model using the training sets\n",
    "knn.fit(X_train,y_train)\n"
   ]
  },
  {
   "cell_type": "code",
   "execution_count": 125,
   "metadata": {},
   "outputs": [],
   "source": [
    "knn_pred =knn.predict(X_test)"
   ]
  },
  {
   "cell_type": "code",
   "execution_count": 126,
   "metadata": {},
   "outputs": [
    {
     "name": "stdout",
     "output_type": "stream",
     "text": [
      "Confusion matrix, without normalization\n",
      "[[157   0   4   3]\n",
      " [  0 241   6   0]\n",
      " [  1   9 169   1]\n",
      " [  3   0   1  37]]\n"
     ]
    },
    {
     "data": {
      "text/plain": [
       "<AxesSubplot:title={'center':'Confusion matrix for KNN'}, xlabel='Predicted label', ylabel='True label'>"
      ]
     },
     "execution_count": 126,
     "metadata": {},
     "output_type": "execute_result"
    },
    {
     "data": {
      "image/png": "[encoded data removed]",
      "text/plain": [
       "<Figure size 432x288 with 2 Axes>"
      ]
     },
     "metadata": {},
     "output_type": "display_data"
    }
   ],
   "source": [
    "plot_confusion_matrix(y_test, knn_pred, classes=definitions,\n",
    "                      title='Confusion matrix for KNN')"
   ]
  },
  {
   "cell_type": "code",
   "execution_count": 127,
   "metadata": {},
   "outputs": [],
   "source": [
    "#Import svm model\n",
    "from sklearn import svm\n",
    "#Create a svm Classifier\n",
    "svm = svm.SVC(kernel=\"linear\") \n",
    "\n",
    "#Train the model using the training sets\n",
    "svm.fit(X_train, y_train)\n",
    "\n",
    "#Predict the response for test dataset\n",
    "svm_pred = svm.predict(X_test)"
   ]
  },
  {
   "cell_type": "code",
   "execution_count": 128,
   "metadata": {},
   "outputs": [
    {
     "name": "stdout",
     "output_type": "stream",
     "text": [
      "Confusion matrix, without normalization\n",
      "[[163   0   1   0]\n",
      " [  0 246   0   1]\n",
      " [  0   9 171   0]\n",
      " [  0   0   1  40]]\n"
     ]
    },
    {
     "data": {
      "text/plain": [
       "<AxesSubplot:title={'center':'Confusion matrix for SVM'}, xlabel='Predicted label', ylabel='True label'>"
      ]
     },
     "execution_count": 128,
     "metadata": {},
     "output_type": "execute_result"
    },
    {
     "data": {
      "image/png": "[encoded data removed]",
      "text/plain": [
       "<Figure size 432x288 with 2 Axes>"
      ]
     },
     "metadata": {},
     "output_type": "display_data"
    }
   ],
   "source": [
    "plot_confusion_matrix(y_test, svm_pred, classes=definitions,\n",
    "                      title='Confusion matrix for SVM')"
   ]
  },
  {
   "cell_type": "code",
   "execution_count": 129,
   "metadata": {},
   "outputs": [],
   "source": [
    "from sklearn.neural_network import MLPClassifier"
   ]
  },
  {
   "cell_type": "code",
   "execution_count": 130,
   "metadata": {},
   "outputs": [
    {
     "name": "stderr",
     "output_type": "stream",
     "text": [
      "c:\\Users\\somas\\AppData\\Local\\Programs\\Python\\Python310\\lib\\site-packages\\sklearn\\neural_network\\_multilayer_perceptron.py:679: ConvergenceWarning: Stochastic Optimizer: Maximum iterations (200) reached and the optimization hasn't converged yet.\n",
      "  warnings.warn(\n"
     ]
    },
    {
     "data": {
      "text/html": [
       "<style>#sk-container-id-12 {color: black;background-color: white;}#sk-container-id-12 pre{padding: 0;}#sk-container-id-12 div.sk-toggleable {background-color: white;}#sk-container-id-12 label.sk-toggleable__label {cursor: pointer;display: block;width: 100%;margin-bottom: 0;padding: 0.3em;box-sizing: border-box;text-align: center;}#sk-container-id-12 label.sk-toggleable__label-arrow:before {content: \"▸\";float: left;margin-right: 0.25em;color: #696969;}#sk-container-id-12 label.sk-toggleable__label-arrow:hover:before {color: black;}#sk-container-id-12 div.sk-estimator:hover label.sk-toggleable__label-arrow:before {color: black;}#sk-container-id-12 div.sk-toggleable__content {max-height: 0;max-width: 0;overflow: hidden;text-align: left;background-color: #f0f8ff;}#sk-container-id-12 div.sk-toggleable__content pre {margin: 0.2em;color: black;border-radius: 0.25em;background-color: #f0f8ff;}#sk-container-id-12 input.sk-toggleable__control:checked~div.sk-toggleable__content {max-height: 200px;max-width: 100%;overflow: auto;}#sk-container-id-12 input.sk-toggleable__control:checked~label.sk-toggleable__label-arrow:before {content: \"▾\";}#sk-container-id-12 div.sk-estimator input.sk-toggleable__control:checked~label.sk-toggleable__label {background-color: #d4ebff;}#sk-container-id-12 div.sk-label input.sk-toggleable__control:checked~label.sk-toggleable__label {background-color: #d4ebff;}#sk-container-id-12 input.sk-hidden--visually {border: 0;clip: rect(1px 1px 1px 1px);clip: rect(1px, 1px, 1px, 1px);height: 1px;margin: -1px;overflow: hidden;padding: 0;position: absolute;width: 1px;}#sk-container-id-12 div.sk-estimator {font-family: monospace;background-color: #f0f8ff;border: 1px dotted black;border-radius: 0.25em;box-sizing: border-box;margin-bottom: 0.5em;}#sk-container-id-12 div.sk-estimator:hover {background-color: #d4ebff;}#sk-container-id-12 div.sk-parallel-item::after {content: \"\";width: 100%;border-bottom: 1px solid gray;flex-grow: 1;}#sk-container-id-12 div.sk-label:hover label.sk-toggleable__label {background-color: #d4ebff;}#sk-container-id-12 div.sk-serial::before {content: \"\";position: absolute;border-left: 1px solid gray;box-sizing: border-box;top: 0;bottom: 0;left: 50%;z-index: 0;}#sk-container-id-12 div.sk-serial {display: flex;flex-direction: column;align-items: center;background-color: white;padding-right: 0.2em;padding-left: 0.2em;position: relative;}#sk-container-id-12 div.sk-item {position: relative;z-index: 1;}#sk-container-id-12 div.sk-parallel {display: flex;align-items: stretch;justify-content: center;background-color: white;position: relative;}#sk-container-id-12 div.sk-item::before, #sk-container-id-12 div.sk-parallel-item::before {content: \"\";position: absolute;border-left: 1px solid gray;box-sizing: border-box;top: 0;bottom: 0;left: 50%;z-index: -1;}#sk-container-id-12 div.sk-parallel-item {display: flex;flex-direction: column;z-index: 1;position: relative;background-color: white;}#sk-container-id-12 div.sk-parallel-item:first-child::after {align-self: flex-end;width: 50%;}#sk-container-id-12 div.sk-parallel-item:last-child::after {align-self: flex-start;width: 50%;}#sk-container-id-12 div.sk-parallel-item:only-child::after {width: 0;}#sk-container-id-12 div.sk-dashed-wrapped {border: 1px dashed gray;margin: 0 0.4em 0.5em 0.4em;box-sizing: border-box;padding-bottom: 0.4em;background-color: white;}#sk-container-id-12 div.sk-label label {font-family: monospace;font-weight: bold;display: inline-block;line-height: 1.2em;}#sk-container-id-12 div.sk-label-container {text-align: center;}#sk-container-id-12 div.sk-container {/* jupyter's `normalize.less` sets `[hidden] { display: none; }` but bootstrap.min.css set `[hidden] { display: none !important; }` so we also need the `!important` here to be able to override the default hidden behavior on the sphinx rendered scikit-learn.org. See: https://github.com/scikit-learn/scikit-learn/issues/21755 */display: inline-block !important;position: relative;}#sk-container-id-12 div.sk-text-repr-fallback {display: none;}</style><div id=\"sk-container-id-12\" class=\"sk-top-container\"><div class=\"sk-text-repr-fallback\"><pre>MLPClassifier()</pre><b>In a Jupyter environment, please rerun this cell to show the HTML representation or trust the notebook. <br />On GitHub, the HTML representation is unable to render, please try loading this page with nbviewer.org.</b></div><div class=\"sk-container\" hidden><div class=\"sk-item\"><div class=\"sk-estimator sk-toggleable\"><input class=\"sk-toggleable__control sk-hidden--visually\" id=\"sk-estimator-id-12\" type=\"checkbox\" checked><label for=\"sk-estimator-id-12\" class=\"sk-toggleable__label sk-toggleable__label-arrow\">MLPClassifier</label><div class=\"sk-toggleable__content\"><pre>MLPClassifier()</pre></div></div></div></div></div>"
      ],
      "text/plain": [
       "MLPClassifier()"
      ]
     },
     "execution_count": 130,
     "metadata": {},
     "output_type": "execute_result"
    }
   ],
   "source": [
    "mlp = MLPClassifier()\n",
    "mlp.fit(X_train, y_train)"
   ]
  },
  {
   "cell_type": "code",
   "execution_count": 131,
   "metadata": {},
   "outputs": [],
   "source": [
    "mlp_pred = mlp.predict(X_test)"
   ]
  },
  {
   "cell_type": "code",
   "execution_count": 132,
   "metadata": {},
   "outputs": [
    {
     "name": "stdout",
     "output_type": "stream",
     "text": [
      "Confusion matrix, without normalization\n",
      "[[164   0   0   0]\n",
      " [  0 245   1   1]\n",
      " [  0   4 173   3]\n",
      " [  0   0   0  41]]\n"
     ]
    },
    {
     "data": {
      "text/plain": [
       "<AxesSubplot:title={'center':'Confusion matrix for MLP'}, xlabel='Predicted label', ylabel='True label'>"
      ]
     },
     "execution_count": 132,
     "metadata": {},
     "output_type": "execute_result"
    },
    {
     "data": {
      "image/png": "[encoded data removed]",
      "text/plain": [
       "<Figure size 432x288 with 2 Axes>"
      ]
     },
     "metadata": {},
     "output_type": "display_data"
    }
   ],
   "source": [
    "plot_confusion_matrix(y_test, mlp_pred, classes=definitions,\n",
    "                      title='Confusion matrix for MLP')"
   ]
  },
  {
   "cell_type": "code",
   "execution_count": 133,
   "metadata": {},
   "outputs": [
    {
     "name": "stdout",
     "output_type": "stream",
     "text": [
      "              precision    recall  f1-score   support\n",
      "\n",
      "       Chill       1.00      1.00      1.00       164\n",
      "   Energetic       0.98      0.99      0.99       247\n",
      "    Cheerful       0.99      0.96      0.98       180\n",
      "    Romantic       0.91      1.00      0.95        41\n",
      "\n",
      "    accuracy                           0.99       632\n",
      "   macro avg       0.97      0.99      0.98       632\n",
      "weighted avg       0.99      0.99      0.99       632\n",
      "MLP\n"
     ]
    }
   ],
   "source": [
    "print(classification_report(y_test,mlp_pred,target_names=definitions)+'MLP')"
   ]
  },
  {
   "cell_type": "code",
   "execution_count": 134,
   "metadata": {},
   "outputs": [
    {
     "name": "stdout",
     "output_type": "stream",
     "text": [
      "              precision    recall  f1-score   support\n",
      "\n",
      "       Chill       1.00      0.99      1.00       164\n",
      "   Energetic       0.96      1.00      0.98       247\n",
      "    Cheerful       0.99      0.95      0.97       180\n",
      "    Romantic       0.98      0.98      0.98        41\n",
      "\n",
      "    accuracy                           0.98       632\n",
      "   macro avg       0.98      0.98      0.98       632\n",
      "weighted avg       0.98      0.98      0.98       632\n",
      "SVM\n"
     ]
    }
   ],
   "source": [
    "print(classification_report(y_test,svm_pred,target_names=definitions)+'SVM')"
   ]
  },
  {
   "cell_type": "code",
   "execution_count": 135,
   "metadata": {},
   "outputs": [
    {
     "name": "stdout",
     "output_type": "stream",
     "text": [
      "              precision    recall  f1-score   support\n",
      "\n",
      "       Chill       0.98      0.96      0.97       164\n",
      "   Energetic       0.96      0.98      0.97       247\n",
      "    Cheerful       0.94      0.94      0.94       180\n",
      "    Romantic       0.90      0.90      0.90        41\n",
      "\n",
      "    accuracy                           0.96       632\n",
      "   macro avg       0.95      0.94      0.94       632\n",
      "weighted avg       0.96      0.96      0.96       632\n",
      "KNN\n"
     ]
    }
   ],
   "source": [
    "print(classification_report(y_test,knn_pred,target_names=definitions)+'KNN')"
   ]
  },
  {
   "cell_type": "code",
   "execution_count": 136,
   "metadata": {},
   "outputs": [
    {
     "name": "stdout",
     "output_type": "stream",
     "text": [
      "              precision    recall  f1-score   support\n",
      "\n",
      "       Chill       0.96      0.96      0.96       164\n",
      "   Energetic       0.98      0.99      0.99       247\n",
      "    Cheerful       0.98      0.95      0.96       180\n",
      "    Romantic       0.86      0.93      0.89        41\n",
      "\n",
      "    accuracy                           0.97       632\n",
      "   macro avg       0.95      0.96      0.95       632\n",
      "weighted avg       0.97      0.97      0.97       632\n",
      "forest\n"
     ]
    }
   ],
   "source": [
    "print(classification_report(y_test,y_pred,target_names=definitions)+'forest')"
   ]
  },
  {
   "cell_type": "code",
   "execution_count": 137,
   "metadata": {},
   "outputs": [],
   "source": [
    "songs['label'] = songs['label'].replace([1],'energetic')\n",
    "songs['label'] = songs['label'].replace([0],'Chill')\n",
    "songs['label'] = songs['label'].replace([2],'cheerful')\n",
    "songs['label'] = songs['label'].replace([3],'romantic')\n",
    "\n",
    "songs.to_csv(\"ClassifiedMusicData.csv\",index=False)"
   ]
  },
  {
   "cell_type": "code",
   "execution_count": 138,
   "metadata": {},
   "outputs": [
    {
     "data": {
      "text/html": [
       "<div>\n",
       "<style scoped>\n",
       "    .dataframe tbody tr th:only-of-type {\n",
       "        vertical-align: middle;\n",
       "    }\n",
       "\n",
       "    .dataframe tbody tr th {\n",
       "        vertical-align: top;\n",
       "    }\n",
       "\n",
       "    .dataframe thead th {\n",
       "        text-align: right;\n",
       "    }\n",
       "</style>\n",
       "<table border=\"1\" class=\"dataframe\">\n",
       "  <thead>\n",
       "    <tr style=\"text-align: right;\">\n",
       "      <th></th>\n",
       "      <th>name</th>\n",
       "      <th>artist</th>\n",
       "      <th>id</th>\n",
       "      <th>danceability</th>\n",
       "      <th>acousticness</th>\n",
       "      <th>liveness</th>\n",
       "      <th>loudness</th>\n",
       "      <th>speechiness</th>\n",
       "      <th>label</th>\n",
       "    </tr>\n",
       "  </thead>\n",
       "  <tbody>\n",
       "    <tr>\n",
       "      <th>1328</th>\n",
       "      <td>Patala Pallakivai-Male</td>\n",
       "      <td>S.A. Rajkumar</td>\n",
       "      <td>08NnsAOOg30D7npjxhswdi</td>\n",
       "      <td>0.627</td>\n",
       "      <td>0.721</td>\n",
       "      <td>0.0463</td>\n",
       "      <td>0.748503</td>\n",
       "      <td>0.0457</td>\n",
       "      <td>Chill</td>\n",
       "    </tr>\n",
       "    <tr>\n",
       "      <th>748</th>\n",
       "      <td>Coma Coma Coma</td>\n",
       "      <td>Ghibran</td>\n",
       "      <td>0kdN0TNdHOhBtoVbNlne3l</td>\n",
       "      <td>0.750</td>\n",
       "      <td>0.346</td>\n",
       "      <td>0.0679</td>\n",
       "      <td>0.885187</td>\n",
       "      <td>0.0714</td>\n",
       "      <td>cheerful</td>\n",
       "    </tr>\n",
       "    <tr>\n",
       "      <th>673</th>\n",
       "      <td>Young Yama</td>\n",
       "      <td>M. M. Keeravani</td>\n",
       "      <td>6IeCCRQ6YyuuhssuUCkYjD</td>\n",
       "      <td>0.793</td>\n",
       "      <td>0.325</td>\n",
       "      <td>0.1110</td>\n",
       "      <td>0.695283</td>\n",
       "      <td>0.2820</td>\n",
       "      <td>energetic</td>\n",
       "    </tr>\n",
       "    <tr>\n",
       "      <th>1186</th>\n",
       "      <td>Sai Paadham</td>\n",
       "      <td>M. M. Keeravani</td>\n",
       "      <td>7B3kvKjoOAuRUSPD7gJ0vO</td>\n",
       "      <td>0.663</td>\n",
       "      <td>0.829</td>\n",
       "      <td>0.3680</td>\n",
       "      <td>0.810096</td>\n",
       "      <td>0.0497</td>\n",
       "      <td>Chill</td>\n",
       "    </tr>\n",
       "    <tr>\n",
       "      <th>1568</th>\n",
       "      <td>Kadalalle (From \"Dear Comrade\")</td>\n",
       "      <td>Sid Sriram</td>\n",
       "      <td>2kW6AMK99mnEO6X01r2E3T</td>\n",
       "      <td>0.575</td>\n",
       "      <td>0.848</td>\n",
       "      <td>0.2090</td>\n",
       "      <td>0.687923</td>\n",
       "      <td>0.0257</td>\n",
       "      <td>Chill</td>\n",
       "    </tr>\n",
       "  </tbody>\n",
       "</table>\n",
       "</div>"
      ],
      "text/plain": [
       "                                 name           artist  \\\n",
       "1328           Patala Pallakivai-Male    S.A. Rajkumar   \n",
       "748                    Coma Coma Coma          Ghibran   \n",
       "673                        Young Yama  M. M. Keeravani   \n",
       "1186                      Sai Paadham  M. M. Keeravani   \n",
       "1568  Kadalalle (From \"Dear Comrade\")       Sid Sriram   \n",
       "\n",
       "                          id  danceability  acousticness  liveness  loudness  \\\n",
       "1328  08NnsAOOg30D7npjxhswdi         0.627         0.721    0.0463  0.748503   \n",
       "748   0kdN0TNdHOhBtoVbNlne3l         0.750         0.346    0.0679  0.885187   \n",
       "673   6IeCCRQ6YyuuhssuUCkYjD         0.793         0.325    0.1110  0.695283   \n",
       "1186  7B3kvKjoOAuRUSPD7gJ0vO         0.663         0.829    0.3680  0.810096   \n",
       "1568  2kW6AMK99mnEO6X01r2E3T         0.575         0.848    0.2090  0.687923   \n",
       "\n",
       "      speechiness      label  \n",
       "1328       0.0457      Chill  \n",
       "748        0.0714   cheerful  \n",
       "673        0.2820  energetic  \n",
       "1186       0.0497      Chill  \n",
       "1568       0.0257      Chill  "
      ]
     },
     "execution_count": 138,
     "metadata": {},
     "output_type": "execute_result"
    }
   ],
   "source": [
    "songs.head()"
   ]
  },
  {
   "cell_type": "code",
   "execution_count": 139,
   "metadata": {},
   "outputs": [
    {
     "data": {
      "text/html": [
       "<div>\n",
       "<style scoped>\n",
       "    .dataframe tbody tr th:only-of-type {\n",
       "        vertical-align: middle;\n",
       "    }\n",
       "\n",
       "    .dataframe tbody tr th {\n",
       "        vertical-align: top;\n",
       "    }\n",
       "\n",
       "    .dataframe thead th {\n",
       "        text-align: right;\n",
       "    }\n",
       "</style>\n",
       "<table border=\"1\" class=\"dataframe\">\n",
       "  <thead>\n",
       "    <tr style=\"text-align: right;\">\n",
       "      <th></th>\n",
       "      <th>name</th>\n",
       "      <th>artist</th>\n",
       "      <th>id</th>\n",
       "      <th>danceability</th>\n",
       "      <th>acousticness</th>\n",
       "      <th>liveness</th>\n",
       "      <th>loudness</th>\n",
       "      <th>speechiness</th>\n",
       "      <th>label</th>\n",
       "    </tr>\n",
       "  </thead>\n",
       "  <tbody>\n",
       "    <tr>\n",
       "      <th>855</th>\n",
       "      <td>Toofan</td>\n",
       "      <td>Ravi Basrur</td>\n",
       "      <td>0ztbRzwQwzF53IPjoxZWhC</td>\n",
       "      <td>0.692</td>\n",
       "      <td>0.345</td>\n",
       "      <td>0.590</td>\n",
       "      <td>0.728091</td>\n",
       "      <td>0.0671</td>\n",
       "      <td>romantic</td>\n",
       "    </tr>\n",
       "    <tr>\n",
       "      <th>418</th>\n",
       "      <td>Aaresukoboyee (From \"Adavi Ramudu\")</td>\n",
       "      <td>S. P. Balasubrahmanyam</td>\n",
       "      <td>3kKhlaxlib4Ey9Nw7QUBhs</td>\n",
       "      <td>0.496</td>\n",
       "      <td>0.946</td>\n",
       "      <td>0.666</td>\n",
       "      <td>0.671623</td>\n",
       "      <td>0.0440</td>\n",
       "      <td>romantic</td>\n",
       "    </tr>\n",
       "    <tr>\n",
       "      <th>1096</th>\n",
       "      <td>Thalli Nee Paadaalu</td>\n",
       "      <td>Thirupathi Matla</td>\n",
       "      <td>3r3NLTsFyGjoSoV1vFKO3U</td>\n",
       "      <td>0.723</td>\n",
       "      <td>0.593</td>\n",
       "      <td>0.494</td>\n",
       "      <td>0.751959</td>\n",
       "      <td>0.0416</td>\n",
       "      <td>romantic</td>\n",
       "    </tr>\n",
       "    <tr>\n",
       "      <th>763</th>\n",
       "      <td>Box Badhalai Poyi</td>\n",
       "      <td>Devi Sri Prasad</td>\n",
       "      <td>2tXmqzOJHKDsIWJ2y2ntAe</td>\n",
       "      <td>0.832</td>\n",
       "      <td>0.226</td>\n",
       "      <td>0.639</td>\n",
       "      <td>0.899014</td>\n",
       "      <td>0.1790</td>\n",
       "      <td>romantic</td>\n",
       "    </tr>\n",
       "    <tr>\n",
       "      <th>1098</th>\n",
       "      <td>Endikondalu Yeletoda</td>\n",
       "      <td>Mangli</td>\n",
       "      <td>1C2DY5M6tNr7ICvcqA7hW0</td>\n",
       "      <td>0.701</td>\n",
       "      <td>0.297</td>\n",
       "      <td>0.549</td>\n",
       "      <td>0.851843</td>\n",
       "      <td>0.0826</td>\n",
       "      <td>romantic</td>\n",
       "    </tr>\n",
       "    <tr>\n",
       "      <th>108</th>\n",
       "      <td>Jalakaalaatalalo</td>\n",
       "      <td>Pendyala Nageswara Rao</td>\n",
       "      <td>3S0BWmZ05XQpsUlKl4Seo7</td>\n",
       "      <td>0.471</td>\n",
       "      <td>0.732</td>\n",
       "      <td>0.614</td>\n",
       "      <td>0.861676</td>\n",
       "      <td>0.0417</td>\n",
       "      <td>romantic</td>\n",
       "    </tr>\n",
       "    <tr>\n",
       "      <th>29</th>\n",
       "      <td>Anuragame Mantramga</td>\n",
       "      <td>S.A. Rajkumar</td>\n",
       "      <td>27sLbeSvAZg72EHF6r1WmN</td>\n",
       "      <td>0.716</td>\n",
       "      <td>0.528</td>\n",
       "      <td>0.461</td>\n",
       "      <td>0.921601</td>\n",
       "      <td>0.0522</td>\n",
       "      <td>romantic</td>\n",
       "    </tr>\n",
       "    <tr>\n",
       "      <th>72</th>\n",
       "      <td>Vundhile Manchi Kaalam</td>\n",
       "      <td>Pendyala Nageswara Rao</td>\n",
       "      <td>1Z4DNJxTVSu1ZT1dUnRX2N</td>\n",
       "      <td>0.344</td>\n",
       "      <td>0.762</td>\n",
       "      <td>0.714</td>\n",
       "      <td>0.657469</td>\n",
       "      <td>0.1790</td>\n",
       "      <td>romantic</td>\n",
       "    </tr>\n",
       "    <tr>\n",
       "      <th>1176</th>\n",
       "      <td>Yavon Kanda Ninna</td>\n",
       "      <td>Hamsa Lekha</td>\n",
       "      <td>0vwULlsFnjXXNEROvQK6qd</td>\n",
       "      <td>0.715</td>\n",
       "      <td>0.661</td>\n",
       "      <td>0.371</td>\n",
       "      <td>0.608451</td>\n",
       "      <td>0.1510</td>\n",
       "      <td>romantic</td>\n",
       "    </tr>\n",
       "    <tr>\n",
       "      <th>78</th>\n",
       "      <td>Chelikaadu Ninne</td>\n",
       "      <td>S. Rajeswara Rao</td>\n",
       "      <td>73X8xeKmnmKuopfEV7KDtB</td>\n",
       "      <td>0.530</td>\n",
       "      <td>0.667</td>\n",
       "      <td>0.413</td>\n",
       "      <td>0.653208</td>\n",
       "      <td>0.0613</td>\n",
       "      <td>romantic</td>\n",
       "    </tr>\n",
       "    <tr>\n",
       "      <th>1030</th>\n",
       "      <td>Patakha</td>\n",
       "      <td>D'strucT</td>\n",
       "      <td>37pjYA2osmqfLQhnHq0Y4f</td>\n",
       "      <td>0.387</td>\n",
       "      <td>0.475</td>\n",
       "      <td>0.359</td>\n",
       "      <td>0.780178</td>\n",
       "      <td>0.4840</td>\n",
       "      <td>romantic</td>\n",
       "    </tr>\n",
       "    <tr>\n",
       "      <th>435</th>\n",
       "      <td>Bhale Bhale Mogaadivoy (From \"Maro Charithra\")</td>\n",
       "      <td>S. P. Balasubrahmanyam</td>\n",
       "      <td>42443zwgnpvTmXFHIP5foz</td>\n",
       "      <td>0.376</td>\n",
       "      <td>0.944</td>\n",
       "      <td>0.942</td>\n",
       "      <td>0.841324</td>\n",
       "      <td>0.0743</td>\n",
       "      <td>romantic</td>\n",
       "    </tr>\n",
       "    <tr>\n",
       "      <th>15</th>\n",
       "      <td>Yamunna Thatilo</td>\n",
       "      <td>Ilaiyaraaja</td>\n",
       "      <td>26mVxTffc7huty5KXGaL5T</td>\n",
       "      <td>0.614</td>\n",
       "      <td>0.638</td>\n",
       "      <td>0.537</td>\n",
       "      <td>0.736405</td>\n",
       "      <td>0.0396</td>\n",
       "      <td>romantic</td>\n",
       "    </tr>\n",
       "    <tr>\n",
       "      <th>932</th>\n",
       "      <td>Chema Chekka</td>\n",
       "      <td>Ilaiyaraaja</td>\n",
       "      <td>5LF269t4OL9eFFcxAIs63z</td>\n",
       "      <td>0.558</td>\n",
       "      <td>0.739</td>\n",
       "      <td>0.657</td>\n",
       "      <td>0.832057</td>\n",
       "      <td>0.0515</td>\n",
       "      <td>romantic</td>\n",
       "    </tr>\n",
       "    <tr>\n",
       "      <th>1128</th>\n",
       "      <td>Sri Rama Namamu</td>\n",
       "      <td>Chirla Ramu</td>\n",
       "      <td>1nAkyzJqup8wLk4n1PHRsG</td>\n",
       "      <td>0.498</td>\n",
       "      <td>0.631</td>\n",
       "      <td>0.324</td>\n",
       "      <td>0.860842</td>\n",
       "      <td>0.3140</td>\n",
       "      <td>romantic</td>\n",
       "    </tr>\n",
       "  </tbody>\n",
       "</table>\n",
       "</div>"
      ],
      "text/plain": [
       "                                                name                  artist  \\\n",
       "855                                           Toofan             Ravi Basrur   \n",
       "418              Aaresukoboyee (From \"Adavi Ramudu\")  S. P. Balasubrahmanyam   \n",
       "1096                             Thalli Nee Paadaalu        Thirupathi Matla   \n",
       "763                                Box Badhalai Poyi         Devi Sri Prasad   \n",
       "1098                            Endikondalu Yeletoda                  Mangli   \n",
       "108                                 Jalakaalaatalalo  Pendyala Nageswara Rao   \n",
       "29                               Anuragame Mantramga           S.A. Rajkumar   \n",
       "72                            Vundhile Manchi Kaalam  Pendyala Nageswara Rao   \n",
       "1176                               Yavon Kanda Ninna             Hamsa Lekha   \n",
       "78                                  Chelikaadu Ninne        S. Rajeswara Rao   \n",
       "1030                                         Patakha                D'strucT   \n",
       "435   Bhale Bhale Mogaadivoy (From \"Maro Charithra\")  S. P. Balasubrahmanyam   \n",
       "15                                   Yamunna Thatilo             Ilaiyaraaja   \n",
       "932                                     Chema Chekka             Ilaiyaraaja   \n",
       "1128                                 Sri Rama Namamu             Chirla Ramu   \n",
       "\n",
       "                          id  danceability  acousticness  liveness  loudness  \\\n",
       "855   0ztbRzwQwzF53IPjoxZWhC         0.692         0.345     0.590  0.728091   \n",
       "418   3kKhlaxlib4Ey9Nw7QUBhs         0.496         0.946     0.666  0.671623   \n",
       "1096  3r3NLTsFyGjoSoV1vFKO3U         0.723         0.593     0.494  0.751959   \n",
       "763   2tXmqzOJHKDsIWJ2y2ntAe         0.832         0.226     0.639  0.899014   \n",
       "1098  1C2DY5M6tNr7ICvcqA7hW0         0.701         0.297     0.549  0.851843   \n",
       "108   3S0BWmZ05XQpsUlKl4Seo7         0.471         0.732     0.614  0.861676   \n",
       "29    27sLbeSvAZg72EHF6r1WmN         0.716         0.528     0.461  0.921601   \n",
       "72    1Z4DNJxTVSu1ZT1dUnRX2N         0.344         0.762     0.714  0.657469   \n",
       "1176  0vwULlsFnjXXNEROvQK6qd         0.715         0.661     0.371  0.608451   \n",
       "78    73X8xeKmnmKuopfEV7KDtB         0.530         0.667     0.413  0.653208   \n",
       "1030  37pjYA2osmqfLQhnHq0Y4f         0.387         0.475     0.359  0.780178   \n",
       "435   42443zwgnpvTmXFHIP5foz         0.376         0.944     0.942  0.841324   \n",
       "15    26mVxTffc7huty5KXGaL5T         0.614         0.638     0.537  0.736405   \n",
       "932   5LF269t4OL9eFFcxAIs63z         0.558         0.739     0.657  0.832057   \n",
       "1128  1nAkyzJqup8wLk4n1PHRsG         0.498         0.631     0.324  0.860842   \n",
       "\n",
       "      speechiness     label  \n",
       "855        0.0671  romantic  \n",
       "418        0.0440  romantic  \n",
       "1096       0.0416  romantic  \n",
       "763        0.1790  romantic  \n",
       "1098       0.0826  romantic  \n",
       "108        0.0417  romantic  \n",
       "29         0.0522  romantic  \n",
       "72         0.1790  romantic  \n",
       "1176       0.1510  romantic  \n",
       "78         0.0613  romantic  \n",
       "1030       0.4840  romantic  \n",
       "435        0.0743  romantic  \n",
       "15         0.0396  romantic  \n",
       "932        0.0515  romantic  \n",
       "1128       0.3140  romantic  "
      ]
     },
     "execution_count": 139,
     "metadata": {},
     "output_type": "execute_result"
    }
   ],
   "source": [
    "songs[songs['label']=='romantic'].head(15)"
   ]
  },
  {
   "cell_type": "code",
   "execution_count": null,
   "metadata": {},
   "outputs": [],
   "source": []
  },
  {
   "cell_type": "code",
   "execution_count": 140,
   "metadata": {},
   "outputs": [],
   "source": [
    "# import spotipy\n",
    "\n",
    "# urn = 'spotify:artist:3jOstUTkEu2JkjvRdBA5Gu'\n",
    "# sp = spotipy.Spotify()\n",
    "\n",
    "# artist = sp.artist(urn)\n",
    "# print(artist)\n",
    "\n",
    "# user = sp.user('plamere')\n",
    "# print(user)"
   ]
  },
  {
   "cell_type": "code",
   "execution_count": 141,
   "metadata": {},
   "outputs": [],
   "source": [
    "cluster_0 = songs[songs['label']==\"Chill\"]\n",
    "cluster_1 = songs[songs['label']==\"energetic\"]\n",
    "cluster_2 = songs[songs['label']==\"cheerful\"]\n",
    "cluster_3 = songs[songs['label']==\"romantic\"]\n",
    "\n",
    "cluster_0.to_csv(\"cluster0.csv\",index=False)\n",
    "cluster_1.to_csv(\"cluster1.csv\",index=False)\n",
    "cluster_2.to_csv(\"cluster2.csv\",index=False)\n",
    "cluster_3.to_csv(\"cluster3.csv\",index=False)\n"
   ]
  },
  {
   "cell_type": "code",
   "execution_count": null,
   "metadata": {},
   "outputs": [],
   "source": []
  },
  {
   "cell_type": "code",
   "execution_count": null,
   "metadata": {},
   "outputs": [],
   "source": []
  }
 ],
 "metadata": {
  "kernelspec": {
   "display_name": "Python 3.10.5 64-bit",
   "language": "python",
   "name": "python3"
  },
  "language_info": {
   "codemirror_mode": {
    "name": "ipython",
    "version": 3
   },
   "file_extension": ".py",
   "mimetype": "text/x-python",
   "name": "python",
   "nbconvert_exporter": "python",
   "pygments_lexer": "ipython3",
   "version": "3.10.5"
  },
  "vscode": {
   "interpreter": {
    "hash": "3d64f3e634b6bcc2e425bc776ac222ef3454ae30028da90a2ad062ff1803d0f1"
   }
  }
 },
 "nbformat": 4,
 "nbformat_minor": 2
}
